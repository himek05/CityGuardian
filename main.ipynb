{
 "cells": [
  {
   "cell_type": "code",
   "execution_count": 1,
   "id": "4fb4f12b",
   "metadata": {},
   "outputs": [
    {
     "name": "stdout",
     "output_type": "stream",
     "text": [
      "Train path: True\n",
      "Test path: True\n"
     ]
    }
   ],
   "source": [
    "import os \n",
    "\n",
    "train_path = \"dataset/train/images\"\n",
    "test_path = \"dataset/test/images\"\n",
    "\n",
    "print(f\"Train path: {os.path.exists(train_path)}\")\n",
    "print(f\"Test path: {os.path.exists(test_path)}\")"
   ]
  },
  {
   "cell_type": "code",
   "execution_count": 2,
   "id": "22c2ce3d",
   "metadata": {},
   "outputs": [
    {
     "name": "stdout",
     "output_type": "stream",
     "text": [
      "Current Working Directory:  c:\\Users\\himek\\Desktop\\proje\n"
     ]
    }
   ],
   "source": [
    "print(\"Current Working Directory: \", os.getcwd())"
   ]
  },
  {
   "cell_type": "code",
   "execution_count": 3,
   "id": "161bd479",
   "metadata": {},
   "outputs": [
    {
     "name": "stdout",
     "output_type": "stream",
     "text": [
      "PyTorch version:  2.6.0+cpu\n"
     ]
    }
   ],
   "source": [
    "import torch\n",
    "print(\"PyTorch version: \", torch.__version__)"
   ]
  },
  {
   "cell_type": "code",
   "execution_count": 4,
   "id": "197c6bfe",
   "metadata": {},
   "outputs": [],
   "source": [
    "torch.cuda.empty_cache()"
   ]
  },
  {
   "cell_type": "code",
   "execution_count": 5,
   "id": "b1554732",
   "metadata": {},
   "outputs": [
    {
     "name": "stdout",
     "output_type": "stream",
     "text": [
      "New https://pypi.org/project/ultralytics/8.3.111 available  Update with 'pip install -U ultralytics'\n",
      "Ultralytics 8.3.107  Python-3.11.9 torch-2.6.0+cpu CPU (11th Gen Intel Core(TM) i5-1155G7 2.50GHz)\n",
      "\u001b[34m\u001b[1mengine\\trainer: \u001b[0mtask=detect, mode=train, model=yolov5su.pt, data=Dataset/data.yaml, epochs=50, time=None, patience=100, batch=16, imgsz=416, save=True, save_period=-1, cache=False, device=None, workers=8, project=None, name=train4, exist_ok=False, pretrained=True, optimizer=auto, verbose=True, seed=0, deterministic=True, single_cls=False, rect=False, cos_lr=False, close_mosaic=10, resume=False, amp=True, fraction=1.0, profile=False, freeze=None, multi_scale=False, overlap_mask=True, mask_ratio=4, dropout=0.0, val=True, split=val, save_json=False, conf=None, iou=0.7, max_det=300, half=False, dnn=False, plots=True, source=None, vid_stride=1, stream_buffer=False, visualize=False, augment=False, agnostic_nms=False, classes=None, retina_masks=False, embed=None, show=False, save_frames=False, save_txt=False, save_conf=False, save_crop=False, show_labels=True, show_conf=True, show_boxes=True, line_width=None, format=torchscript, keras=False, optimize=False, int8=False, dynamic=False, simplify=True, opset=None, workspace=None, nms=False, lr0=0.01, lrf=0.01, momentum=0.937, weight_decay=0.0005, warmup_epochs=3.0, warmup_momentum=0.8, warmup_bias_lr=0.1, box=7.5, cls=0.5, dfl=1.5, pose=12.0, kobj=1.0, nbs=64, hsv_h=0.015, hsv_s=0.7, hsv_v=0.4, degrees=0.0, translate=0.1, scale=0.5, shear=0.0, perspective=0.0, flipud=0.0, fliplr=0.5, bgr=0.0, mosaic=1.0, mixup=0.0, copy_paste=0.0, copy_paste_mode=flip, auto_augment=randaugment, erasing=0.4, crop_fraction=1.0, cfg=None, tracker=botsort.yaml, save_dir=runs\\detect\\train4\n",
      "Overriding model.yaml nc=80 with nc=1\n",
      "\n",
      "                   from  n    params  module                                       arguments                     \n",
      "  0                  -1  1      3520  ultralytics.nn.modules.conv.Conv             [3, 32, 6, 2, 2]              \n",
      "  1                  -1  1     18560  ultralytics.nn.modules.conv.Conv             [32, 64, 3, 2]                \n",
      "  2                  -1  1     18816  ultralytics.nn.modules.block.C3              [64, 64, 1]                   \n",
      "  3                  -1  1     73984  ultralytics.nn.modules.conv.Conv             [64, 128, 3, 2]               \n",
      "  4                  -1  2    115712  ultralytics.nn.modules.block.C3              [128, 128, 2]                 \n",
      "  5                  -1  1    295424  ultralytics.nn.modules.conv.Conv             [128, 256, 3, 2]              \n",
      "  6                  -1  3    625152  ultralytics.nn.modules.block.C3              [256, 256, 3]                 \n",
      "  7                  -1  1   1180672  ultralytics.nn.modules.conv.Conv             [256, 512, 3, 2]              \n",
      "  8                  -1  1   1182720  ultralytics.nn.modules.block.C3              [512, 512, 1]                 \n",
      "  9                  -1  1    656896  ultralytics.nn.modules.block.SPPF            [512, 512, 5]                 \n",
      " 10                  -1  1    131584  ultralytics.nn.modules.conv.Conv             [512, 256, 1, 1]              \n",
      " 11                  -1  1         0  torch.nn.modules.upsampling.Upsample         [None, 2, 'nearest']          \n",
      " 12             [-1, 6]  1         0  ultralytics.nn.modules.conv.Concat           [1]                           \n",
      " 13                  -1  1    361984  ultralytics.nn.modules.block.C3              [512, 256, 1, False]          \n",
      " 14                  -1  1     33024  ultralytics.nn.modules.conv.Conv             [256, 128, 1, 1]              \n",
      " 15                  -1  1         0  torch.nn.modules.upsampling.Upsample         [None, 2, 'nearest']          \n",
      " 16             [-1, 4]  1         0  ultralytics.nn.modules.conv.Concat           [1]                           \n",
      " 17                  -1  1     90880  ultralytics.nn.modules.block.C3              [256, 128, 1, False]          \n",
      " 18                  -1  1    147712  ultralytics.nn.modules.conv.Conv             [128, 128, 3, 2]              \n",
      " 19            [-1, 14]  1         0  ultralytics.nn.modules.conv.Concat           [1]                           \n",
      " 20                  -1  1    296448  ultralytics.nn.modules.block.C3              [256, 256, 1, False]          \n",
      " 21                  -1  1    590336  ultralytics.nn.modules.conv.Conv             [256, 256, 3, 2]              \n",
      " 22            [-1, 10]  1         0  ultralytics.nn.modules.conv.Concat           [1]                           \n",
      " 23                  -1  1   1182720  ultralytics.nn.modules.block.C3              [512, 512, 1, False]          \n",
      " 24        [17, 20, 23]  1   2116435  ultralytics.nn.modules.head.Detect           [1, [128, 256, 512]]          \n",
      "YOLOv5s summary: 153 layers, 9,122,579 parameters, 9,122,563 gradients, 24.0 GFLOPs\n",
      "\n",
      "Transferred 421/427 items from pretrained weights\n",
      "\u001b[34m\u001b[1mTensorBoard: \u001b[0mStart with 'tensorboard --logdir runs\\detect\\train4', view at http://localhost:6006/\n",
      "Freezing layer 'model.24.dfl.conv.weight'\n"
     ]
    },
    {
     "name": "stderr",
     "output_type": "stream",
     "text": [
      "\u001b[34m\u001b[1mtrain: \u001b[0mScanning C:\\Users\\himek\\Desktop\\proje\\Dataset\\train\\labels.cache... 712 images, 5 backgrounds, 0 corrupt: 100%|██████████| 717/717 [00:00<?, ?it/s]\n",
      "\u001b[34m\u001b[1mval: \u001b[0mScanning C:\\Users\\himek\\Desktop\\proje\\Dataset\\valid\\labels.cache... 60 images, 0 backgrounds, 0 corrupt: 100%|██████████| 60/60 [00:00<?, ?it/s]\n"
     ]
    },
    {
     "name": "stdout",
     "output_type": "stream",
     "text": [
      "Plotting labels to runs\\detect\\train4\\labels.jpg... \n",
      "\u001b[34m\u001b[1moptimizer:\u001b[0m 'optimizer=auto' found, ignoring 'lr0=0.01' and 'momentum=0.937' and determining best 'optimizer', 'lr0' and 'momentum' automatically... \n",
      "\u001b[34m\u001b[1moptimizer:\u001b[0m AdamW(lr=0.002, momentum=0.9) with parameter groups 69 weight(decay=0.0), 76 weight(decay=0.0005), 75 bias(decay=0.0)\n",
      "\u001b[34m\u001b[1mTensorBoard: \u001b[0mmodel graph visualization added \n",
      "Image sizes 416 train, 416 val\n",
      "Using 0 dataloader workers\n",
      "Logging results to \u001b[1mruns\\detect\\train4\u001b[0m\n",
      "Starting training for 50 epochs...\n",
      "\n",
      "      Epoch    GPU_mem   box_loss   cls_loss   dfl_loss  Instances       Size\n"
     ]
    },
    {
     "name": "stderr",
     "output_type": "stream",
     "text": [
      "       1/50         0G      1.459      1.838      1.335         59        416: 100%|██████████| 45/45 [04:09<00:00,  5.54s/it]\n",
      "                 Class     Images  Instances      Box(P          R      mAP50  mAP50-95): 100%|██████████| 2/2 [00:08<00:00,  4.28s/it]"
     ]
    },
    {
     "name": "stdout",
     "output_type": "stream",
     "text": [
      "                   all         60        201       0.59      0.542      0.525      0.262\n"
     ]
    },
    {
     "name": "stderr",
     "output_type": "stream",
     "text": [
      "\n"
     ]
    },
    {
     "name": "stdout",
     "output_type": "stream",
     "text": [
      "\n",
      "      Epoch    GPU_mem   box_loss   cls_loss   dfl_loss  Instances       Size\n"
     ]
    },
    {
     "name": "stderr",
     "output_type": "stream",
     "text": [
      "       2/50         0G      1.543      1.557      1.381         68        416: 100%|██████████| 45/45 [03:28<00:00,  4.63s/it]\n",
      "                 Class     Images  Instances      Box(P          R      mAP50  mAP50-95): 100%|██████████| 2/2 [00:07<00:00,  3.83s/it]"
     ]
    },
    {
     "name": "stdout",
     "output_type": "stream",
     "text": [
      "                   all         60        201      0.333      0.393      0.276      0.115\n"
     ]
    },
    {
     "name": "stderr",
     "output_type": "stream",
     "text": [
      "\n"
     ]
    },
    {
     "name": "stdout",
     "output_type": "stream",
     "text": [
      "\n",
      "      Epoch    GPU_mem   box_loss   cls_loss   dfl_loss  Instances       Size\n"
     ]
    },
    {
     "name": "stderr",
     "output_type": "stream",
     "text": [
      "       3/50         0G       1.58      1.606      1.399         63        416: 100%|██████████| 45/45 [04:02<00:00,  5.38s/it]\n",
      "                 Class     Images  Instances      Box(P          R      mAP50  mAP50-95): 100%|██████████| 2/2 [00:06<00:00,  3.32s/it]"
     ]
    },
    {
     "name": "stdout",
     "output_type": "stream",
     "text": [
      "                   all         60        201     0.0318      0.119     0.0153    0.00538\n"
     ]
    },
    {
     "name": "stderr",
     "output_type": "stream",
     "text": [
      "\n"
     ]
    },
    {
     "name": "stdout",
     "output_type": "stream",
     "text": [
      "\n",
      "      Epoch    GPU_mem   box_loss   cls_loss   dfl_loss  Instances       Size\n"
     ]
    },
    {
     "name": "stderr",
     "output_type": "stream",
     "text": [
      "       4/50         0G      1.608      1.533       1.41         54        416: 100%|██████████| 45/45 [03:17<00:00,  4.39s/it]\n",
      "                 Class     Images  Instances      Box(P          R      mAP50  mAP50-95): 100%|██████████| 2/2 [00:06<00:00,  3.25s/it]"
     ]
    },
    {
     "name": "stdout",
     "output_type": "stream",
     "text": [
      "                   all         60        201      0.104      0.393     0.0768     0.0359\n"
     ]
    },
    {
     "name": "stderr",
     "output_type": "stream",
     "text": [
      "\n"
     ]
    },
    {
     "name": "stdout",
     "output_type": "stream",
     "text": [
      "\n",
      "      Epoch    GPU_mem   box_loss   cls_loss   dfl_loss  Instances       Size\n"
     ]
    },
    {
     "name": "stderr",
     "output_type": "stream",
     "text": [
      "       5/50         0G      1.549      1.502      1.395         58        416: 100%|██████████| 45/45 [03:25<00:00,  4.57s/it]\n",
      "                 Class     Images  Instances      Box(P          R      mAP50  mAP50-95): 100%|██████████| 2/2 [00:07<00:00,  3.62s/it]"
     ]
    },
    {
     "name": "stdout",
     "output_type": "stream",
     "text": [
      "                   all         60        201      0.359      0.358      0.305       0.16\n"
     ]
    },
    {
     "name": "stderr",
     "output_type": "stream",
     "text": [
      "\n"
     ]
    },
    {
     "name": "stdout",
     "output_type": "stream",
     "text": [
      "\n",
      "      Epoch    GPU_mem   box_loss   cls_loss   dfl_loss  Instances       Size\n"
     ]
    },
    {
     "name": "stderr",
     "output_type": "stream",
     "text": [
      "       6/50         0G      1.522      1.432      1.364         53        416: 100%|██████████| 45/45 [03:42<00:00,  4.94s/it]\n",
      "                 Class     Images  Instances      Box(P          R      mAP50  mAP50-95): 100%|██████████| 2/2 [00:06<00:00,  3.49s/it]"
     ]
    },
    {
     "name": "stdout",
     "output_type": "stream",
     "text": [
      "                   all         60        201      0.493      0.358      0.359      0.171\n"
     ]
    },
    {
     "name": "stderr",
     "output_type": "stream",
     "text": [
      "\n"
     ]
    },
    {
     "name": "stdout",
     "output_type": "stream",
     "text": [
      "\n",
      "      Epoch    GPU_mem   box_loss   cls_loss   dfl_loss  Instances       Size\n"
     ]
    },
    {
     "name": "stderr",
     "output_type": "stream",
     "text": [
      "       7/50         0G      1.509      1.424      1.358         59        416: 100%|██████████| 45/45 [03:31<00:00,  4.70s/it]\n",
      "                 Class     Images  Instances      Box(P          R      mAP50  mAP50-95): 100%|██████████| 2/2 [00:07<00:00,  3.74s/it]"
     ]
    },
    {
     "name": "stdout",
     "output_type": "stream",
     "text": [
      "                   all         60        201      0.509      0.542      0.492      0.237\n"
     ]
    },
    {
     "name": "stderr",
     "output_type": "stream",
     "text": [
      "\n"
     ]
    },
    {
     "name": "stdout",
     "output_type": "stream",
     "text": [
      "\n",
      "      Epoch    GPU_mem   box_loss   cls_loss   dfl_loss  Instances       Size\n"
     ]
    },
    {
     "name": "stderr",
     "output_type": "stream",
     "text": [
      "       8/50         0G       1.48      1.383      1.323         47        416: 100%|██████████| 45/45 [03:55<00:00,  5.22s/it]\n",
      "                 Class     Images  Instances      Box(P          R      mAP50  mAP50-95): 100%|██████████| 2/2 [00:07<00:00,  3.53s/it]"
     ]
    },
    {
     "name": "stdout",
     "output_type": "stream",
     "text": [
      "                   all         60        201      0.536      0.587       0.56      0.286\n"
     ]
    },
    {
     "name": "stderr",
     "output_type": "stream",
     "text": [
      "\n"
     ]
    },
    {
     "name": "stdout",
     "output_type": "stream",
     "text": [
      "\n",
      "      Epoch    GPU_mem   box_loss   cls_loss   dfl_loss  Instances       Size\n"
     ]
    },
    {
     "name": "stderr",
     "output_type": "stream",
     "text": [
      "       9/50         0G      1.482      1.371      1.338         41        416: 100%|██████████| 45/45 [03:27<00:00,  4.61s/it]\n",
      "                 Class     Images  Instances      Box(P          R      mAP50  mAP50-95): 100%|██████████| 2/2 [00:07<00:00,  3.82s/it]"
     ]
    },
    {
     "name": "stdout",
     "output_type": "stream",
     "text": [
      "                   all         60        201      0.498      0.502      0.485      0.249\n"
     ]
    },
    {
     "name": "stderr",
     "output_type": "stream",
     "text": [
      "\n"
     ]
    },
    {
     "name": "stdout",
     "output_type": "stream",
     "text": [
      "\n",
      "      Epoch    GPU_mem   box_loss   cls_loss   dfl_loss  Instances       Size\n"
     ]
    },
    {
     "name": "stderr",
     "output_type": "stream",
     "text": [
      "      10/50         0G      1.459      1.353      1.329         43        416: 100%|██████████| 45/45 [03:48<00:00,  5.08s/it]\n",
      "                 Class     Images  Instances      Box(P          R      mAP50  mAP50-95): 100%|██████████| 2/2 [00:07<00:00,  3.95s/it]"
     ]
    },
    {
     "name": "stdout",
     "output_type": "stream",
     "text": [
      "                   all         60        201      0.516      0.537       0.56      0.287\n"
     ]
    },
    {
     "name": "stderr",
     "output_type": "stream",
     "text": [
      "\n"
     ]
    },
    {
     "name": "stdout",
     "output_type": "stream",
     "text": [
      "\n",
      "      Epoch    GPU_mem   box_loss   cls_loss   dfl_loss  Instances       Size\n"
     ]
    },
    {
     "name": "stderr",
     "output_type": "stream",
     "text": [
      "      11/50         0G      1.395      1.236      1.277         48        416: 100%|██████████| 45/45 [09:11<00:00, 12.26s/it]\n",
      "                 Class     Images  Instances      Box(P          R      mAP50  mAP50-95): 100%|██████████| 2/2 [00:13<00:00,  6.89s/it]"
     ]
    },
    {
     "name": "stdout",
     "output_type": "stream",
     "text": [
      "                   all         60        201      0.609      0.592      0.568      0.304\n"
     ]
    },
    {
     "name": "stderr",
     "output_type": "stream",
     "text": [
      "\n"
     ]
    },
    {
     "name": "stdout",
     "output_type": "stream",
     "text": [
      "\n",
      "      Epoch    GPU_mem   box_loss   cls_loss   dfl_loss  Instances       Size\n"
     ]
    },
    {
     "name": "stderr",
     "output_type": "stream",
     "text": [
      "      12/50         0G      1.369       1.24       1.28         63        416: 100%|██████████| 45/45 [06:09<00:00,  8.20s/it]\n",
      "                 Class     Images  Instances      Box(P          R      mAP50  mAP50-95): 100%|██████████| 2/2 [00:07<00:00,  3.82s/it]"
     ]
    },
    {
     "name": "stdout",
     "output_type": "stream",
     "text": [
      "                   all         60        201      0.716      0.488      0.587      0.314\n"
     ]
    },
    {
     "name": "stderr",
     "output_type": "stream",
     "text": [
      "\n"
     ]
    },
    {
     "name": "stdout",
     "output_type": "stream",
     "text": [
      "\n",
      "      Epoch    GPU_mem   box_loss   cls_loss   dfl_loss  Instances       Size\n"
     ]
    },
    {
     "name": "stderr",
     "output_type": "stream",
     "text": [
      "      13/50         0G      1.361      1.212      1.263         70        416: 100%|██████████| 45/45 [03:49<00:00,  5.10s/it]\n",
      "                 Class     Images  Instances      Box(P          R      mAP50  mAP50-95): 100%|██████████| 2/2 [00:07<00:00,  3.62s/it]"
     ]
    },
    {
     "name": "stdout",
     "output_type": "stream",
     "text": [
      "                   all         60        201      0.622      0.637      0.623      0.335\n"
     ]
    },
    {
     "name": "stderr",
     "output_type": "stream",
     "text": [
      "\n"
     ]
    },
    {
     "name": "stdout",
     "output_type": "stream",
     "text": [
      "\n",
      "      Epoch    GPU_mem   box_loss   cls_loss   dfl_loss  Instances       Size\n"
     ]
    },
    {
     "name": "stderr",
     "output_type": "stream",
     "text": [
      "      14/50         0G      1.348      1.159       1.25         41        416: 100%|██████████| 45/45 [03:31<00:00,  4.70s/it]\n",
      "                 Class     Images  Instances      Box(P          R      mAP50  mAP50-95): 100%|██████████| 2/2 [00:07<00:00,  3.65s/it]"
     ]
    },
    {
     "name": "stdout",
     "output_type": "stream",
     "text": [
      "                   all         60        201      0.635      0.537      0.589      0.309\n"
     ]
    },
    {
     "name": "stderr",
     "output_type": "stream",
     "text": [
      "\n"
     ]
    },
    {
     "name": "stdout",
     "output_type": "stream",
     "text": [
      "\n",
      "      Epoch    GPU_mem   box_loss   cls_loss   dfl_loss  Instances       Size\n"
     ]
    },
    {
     "name": "stderr",
     "output_type": "stream",
     "text": [
      "      15/50         0G      1.301      1.135      1.236         54        416: 100%|██████████| 45/45 [03:39<00:00,  4.88s/it]\n",
      "                 Class     Images  Instances      Box(P          R      mAP50  mAP50-95): 100%|██████████| 2/2 [00:07<00:00,  3.61s/it]"
     ]
    },
    {
     "name": "stdout",
     "output_type": "stream",
     "text": [
      "                   all         60        201      0.573      0.607      0.594       0.33\n"
     ]
    },
    {
     "name": "stderr",
     "output_type": "stream",
     "text": [
      "\n"
     ]
    },
    {
     "name": "stdout",
     "output_type": "stream",
     "text": [
      "\n",
      "      Epoch    GPU_mem   box_loss   cls_loss   dfl_loss  Instances       Size\n"
     ]
    },
    {
     "name": "stderr",
     "output_type": "stream",
     "text": [
      "      16/50         0G      1.319       1.14      1.236         60        416: 100%|██████████| 45/45 [03:34<00:00,  4.77s/it]\n",
      "                 Class     Images  Instances      Box(P          R      mAP50  mAP50-95): 100%|██████████| 2/2 [00:07<00:00,  3.75s/it]"
     ]
    },
    {
     "name": "stdout",
     "output_type": "stream",
     "text": [
      "                   all         60        201      0.664      0.662      0.663      0.351\n"
     ]
    },
    {
     "name": "stderr",
     "output_type": "stream",
     "text": [
      "\n"
     ]
    },
    {
     "name": "stdout",
     "output_type": "stream",
     "text": [
      "\n",
      "      Epoch    GPU_mem   box_loss   cls_loss   dfl_loss  Instances       Size\n"
     ]
    },
    {
     "name": "stderr",
     "output_type": "stream",
     "text": [
      "      17/50         0G      1.292      1.079       1.21         45        416: 100%|██████████| 45/45 [03:26<00:00,  4.60s/it]\n",
      "                 Class     Images  Instances      Box(P          R      mAP50  mAP50-95): 100%|██████████| 2/2 [00:07<00:00,  3.54s/it]"
     ]
    },
    {
     "name": "stdout",
     "output_type": "stream",
     "text": [
      "                   all         60        201      0.695      0.636      0.658      0.363\n"
     ]
    },
    {
     "name": "stderr",
     "output_type": "stream",
     "text": [
      "\n"
     ]
    },
    {
     "name": "stdout",
     "output_type": "stream",
     "text": [
      "\n",
      "      Epoch    GPU_mem   box_loss   cls_loss   dfl_loss  Instances       Size\n"
     ]
    },
    {
     "name": "stderr",
     "output_type": "stream",
     "text": [
      "      18/50         0G       1.25      1.045      1.192         76        416: 100%|██████████| 45/45 [03:41<00:00,  4.91s/it]\n",
      "                 Class     Images  Instances      Box(P          R      mAP50  mAP50-95): 100%|██████████| 2/2 [00:07<00:00,  3.78s/it]"
     ]
    },
    {
     "name": "stdout",
     "output_type": "stream",
     "text": [
      "                   all         60        201       0.64      0.642       0.63      0.362\n"
     ]
    },
    {
     "name": "stderr",
     "output_type": "stream",
     "text": [
      "\n"
     ]
    },
    {
     "name": "stdout",
     "output_type": "stream",
     "text": [
      "\n",
      "      Epoch    GPU_mem   box_loss   cls_loss   dfl_loss  Instances       Size\n"
     ]
    },
    {
     "name": "stderr",
     "output_type": "stream",
     "text": [
      "      19/50         0G      1.269      1.043      1.208         60        416: 100%|██████████| 45/45 [03:33<00:00,  4.75s/it]\n",
      "                 Class     Images  Instances      Box(P          R      mAP50  mAP50-95): 100%|██████████| 2/2 [00:07<00:00,  3.65s/it]"
     ]
    },
    {
     "name": "stdout",
     "output_type": "stream",
     "text": [
      "                   all         60        201      0.586      0.613      0.618      0.353\n"
     ]
    },
    {
     "name": "stderr",
     "output_type": "stream",
     "text": [
      "\n"
     ]
    },
    {
     "name": "stdout",
     "output_type": "stream",
     "text": [
      "\n",
      "      Epoch    GPU_mem   box_loss   cls_loss   dfl_loss  Instances       Size\n"
     ]
    },
    {
     "name": "stderr",
     "output_type": "stream",
     "text": [
      "      20/50         0G      1.265      1.054      1.213         62        416: 100%|██████████| 45/45 [03:36<00:00,  4.81s/it]\n",
      "                 Class     Images  Instances      Box(P          R      mAP50  mAP50-95): 100%|██████████| 2/2 [00:07<00:00,  3.90s/it]"
     ]
    },
    {
     "name": "stdout",
     "output_type": "stream",
     "text": [
      "                   all         60        201      0.684      0.502      0.585      0.326\n"
     ]
    },
    {
     "name": "stderr",
     "output_type": "stream",
     "text": [
      "\n"
     ]
    },
    {
     "name": "stdout",
     "output_type": "stream",
     "text": [
      "\n",
      "      Epoch    GPU_mem   box_loss   cls_loss   dfl_loss  Instances       Size\n"
     ]
    },
    {
     "name": "stderr",
     "output_type": "stream",
     "text": [
      "      21/50         0G      1.225      1.048      1.208         74        416: 100%|██████████| 45/45 [03:44<00:00,  4.99s/it]\n",
      "                 Class     Images  Instances      Box(P          R      mAP50  mAP50-95): 100%|██████████| 2/2 [00:07<00:00,  3.85s/it]"
     ]
    },
    {
     "name": "stdout",
     "output_type": "stream",
     "text": [
      "                   all         60        201      0.606      0.674      0.653      0.374\n"
     ]
    },
    {
     "name": "stderr",
     "output_type": "stream",
     "text": [
      "\n"
     ]
    },
    {
     "name": "stdout",
     "output_type": "stream",
     "text": [
      "\n",
      "      Epoch    GPU_mem   box_loss   cls_loss   dfl_loss  Instances       Size\n"
     ]
    },
    {
     "name": "stderr",
     "output_type": "stream",
     "text": [
      "      22/50         0G      1.212     0.9732      1.173         51        416: 100%|██████████| 45/45 [03:30<00:00,  4.67s/it]\n",
      "                 Class     Images  Instances      Box(P          R      mAP50  mAP50-95): 100%|██████████| 2/2 [00:07<00:00,  3.64s/it]"
     ]
    },
    {
     "name": "stdout",
     "output_type": "stream",
     "text": [
      "                   all         60        201      0.647      0.677      0.703       0.41\n"
     ]
    },
    {
     "name": "stderr",
     "output_type": "stream",
     "text": [
      "\n"
     ]
    },
    {
     "name": "stdout",
     "output_type": "stream",
     "text": [
      "\n",
      "      Epoch    GPU_mem   box_loss   cls_loss   dfl_loss  Instances       Size\n"
     ]
    },
    {
     "name": "stderr",
     "output_type": "stream",
     "text": [
      "      23/50         0G      1.208     0.9788       1.17         59        416: 100%|██████████| 45/45 [04:06<00:00,  5.47s/it]\n",
      "                 Class     Images  Instances      Box(P          R      mAP50  mAP50-95): 100%|██████████| 2/2 [00:08<00:00,  4.05s/it]"
     ]
    },
    {
     "name": "stdout",
     "output_type": "stream",
     "text": [
      "                   all         60        201      0.708      0.639      0.667      0.379\n"
     ]
    },
    {
     "name": "stderr",
     "output_type": "stream",
     "text": [
      "\n"
     ]
    },
    {
     "name": "stdout",
     "output_type": "stream",
     "text": [
      "\n",
      "      Epoch    GPU_mem   box_loss   cls_loss   dfl_loss  Instances       Size\n"
     ]
    },
    {
     "name": "stderr",
     "output_type": "stream",
     "text": [
      "      24/50         0G      1.208     0.9591      1.173         49        416: 100%|██████████| 45/45 [04:01<00:00,  5.37s/it]\n",
      "                 Class     Images  Instances      Box(P          R      mAP50  mAP50-95): 100%|██████████| 2/2 [00:08<00:00,  4.19s/it]"
     ]
    },
    {
     "name": "stdout",
     "output_type": "stream",
     "text": [
      "                   all         60        201      0.682      0.622       0.69      0.418\n"
     ]
    },
    {
     "name": "stderr",
     "output_type": "stream",
     "text": [
      "\n"
     ]
    },
    {
     "name": "stdout",
     "output_type": "stream",
     "text": [
      "\n",
      "      Epoch    GPU_mem   box_loss   cls_loss   dfl_loss  Instances       Size\n"
     ]
    },
    {
     "name": "stderr",
     "output_type": "stream",
     "text": [
      "      25/50         0G      1.185     0.9443      1.155         64        416: 100%|██████████| 45/45 [03:48<00:00,  5.07s/it]\n",
      "                 Class     Images  Instances      Box(P          R      mAP50  mAP50-95): 100%|██████████| 2/2 [00:07<00:00,  3.78s/it]"
     ]
    },
    {
     "name": "stdout",
     "output_type": "stream",
     "text": [
      "                   all         60        201      0.658      0.627       0.65      0.387\n"
     ]
    },
    {
     "name": "stderr",
     "output_type": "stream",
     "text": [
      "\n"
     ]
    },
    {
     "name": "stdout",
     "output_type": "stream",
     "text": [
      "\n",
      "      Epoch    GPU_mem   box_loss   cls_loss   dfl_loss  Instances       Size\n"
     ]
    },
    {
     "name": "stderr",
     "output_type": "stream",
     "text": [
      "      26/50         0G      1.156     0.9264      1.163         68        416: 100%|██████████| 45/45 [03:44<00:00,  4.99s/it]\n",
      "                 Class     Images  Instances      Box(P          R      mAP50  mAP50-95): 100%|██████████| 2/2 [00:06<00:00,  3.44s/it]"
     ]
    },
    {
     "name": "stdout",
     "output_type": "stream",
     "text": [
      "                   all         60        201      0.674      0.637      0.677      0.392\n"
     ]
    },
    {
     "name": "stderr",
     "output_type": "stream",
     "text": [
      "\n"
     ]
    },
    {
     "name": "stdout",
     "output_type": "stream",
     "text": [
      "\n",
      "      Epoch    GPU_mem   box_loss   cls_loss   dfl_loss  Instances       Size\n"
     ]
    },
    {
     "name": "stderr",
     "output_type": "stream",
     "text": [
      "      27/50         0G      1.176     0.9381      1.155         54        416: 100%|██████████| 45/45 [03:09<00:00,  4.22s/it]\n",
      "                 Class     Images  Instances      Box(P          R      mAP50  mAP50-95): 100%|██████████| 2/2 [00:06<00:00,  3.09s/it]"
     ]
    },
    {
     "name": "stdout",
     "output_type": "stream",
     "text": [
      "                   all         60        201      0.642      0.634      0.638      0.357\n"
     ]
    },
    {
     "name": "stderr",
     "output_type": "stream",
     "text": [
      "\n"
     ]
    },
    {
     "name": "stdout",
     "output_type": "stream",
     "text": [
      "\n",
      "      Epoch    GPU_mem   box_loss   cls_loss   dfl_loss  Instances       Size\n"
     ]
    },
    {
     "name": "stderr",
     "output_type": "stream",
     "text": [
      "      28/50         0G       1.13     0.8792      1.134         37        416: 100%|██████████| 45/45 [03:32<00:00,  4.72s/it]\n",
      "                 Class     Images  Instances      Box(P          R      mAP50  mAP50-95): 100%|██████████| 2/2 [00:07<00:00,  3.52s/it]"
     ]
    },
    {
     "name": "stdout",
     "output_type": "stream",
     "text": [
      "                   all         60        201       0.65      0.646      0.669      0.385\n"
     ]
    },
    {
     "name": "stderr",
     "output_type": "stream",
     "text": [
      "\n"
     ]
    },
    {
     "name": "stdout",
     "output_type": "stream",
     "text": [
      "\n",
      "      Epoch    GPU_mem   box_loss   cls_loss   dfl_loss  Instances       Size\n"
     ]
    },
    {
     "name": "stderr",
     "output_type": "stream",
     "text": [
      "      29/50         0G      1.105     0.8624      1.117         49        416: 100%|██████████| 45/45 [03:35<00:00,  4.80s/it]\n",
      "                 Class     Images  Instances      Box(P          R      mAP50  mAP50-95): 100%|██████████| 2/2 [00:07<00:00,  3.54s/it]"
     ]
    },
    {
     "name": "stdout",
     "output_type": "stream",
     "text": [
      "                   all         60        201      0.646      0.652      0.645      0.385\n"
     ]
    },
    {
     "name": "stderr",
     "output_type": "stream",
     "text": [
      "\n"
     ]
    },
    {
     "name": "stdout",
     "output_type": "stream",
     "text": [
      "\n",
      "      Epoch    GPU_mem   box_loss   cls_loss   dfl_loss  Instances       Size\n"
     ]
    },
    {
     "name": "stderr",
     "output_type": "stream",
     "text": [
      "      30/50         0G      1.109     0.8527      1.127         45        416: 100%|██████████| 45/45 [03:22<00:00,  4.51s/it]\n",
      "                 Class     Images  Instances      Box(P          R      mAP50  mAP50-95): 100%|██████████| 2/2 [00:06<00:00,  3.18s/it]"
     ]
    },
    {
     "name": "stdout",
     "output_type": "stream",
     "text": [
      "                   all         60        201      0.619      0.701      0.685      0.411\n"
     ]
    },
    {
     "name": "stderr",
     "output_type": "stream",
     "text": [
      "\n"
     ]
    },
    {
     "name": "stdout",
     "output_type": "stream",
     "text": [
      "\n",
      "      Epoch    GPU_mem   box_loss   cls_loss   dfl_loss  Instances       Size\n"
     ]
    },
    {
     "name": "stderr",
     "output_type": "stream",
     "text": [
      "      31/50         0G      1.093     0.8471      1.111         49        416: 100%|██████████| 45/45 [03:05<00:00,  4.11s/it]\n",
      "                 Class     Images  Instances      Box(P          R      mAP50  mAP50-95): 100%|██████████| 2/2 [00:05<00:00,  2.99s/it]"
     ]
    },
    {
     "name": "stdout",
     "output_type": "stream",
     "text": [
      "                   all         60        201      0.704      0.667      0.694      0.417\n"
     ]
    },
    {
     "name": "stderr",
     "output_type": "stream",
     "text": [
      "\n"
     ]
    },
    {
     "name": "stdout",
     "output_type": "stream",
     "text": [
      "\n",
      "      Epoch    GPU_mem   box_loss   cls_loss   dfl_loss  Instances       Size\n"
     ]
    },
    {
     "name": "stderr",
     "output_type": "stream",
     "text": [
      "      32/50         0G      1.104     0.8191      1.108         73        416: 100%|██████████| 45/45 [03:00<00:00,  4.02s/it]\n",
      "                 Class     Images  Instances      Box(P          R      mAP50  mAP50-95): 100%|██████████| 2/2 [00:06<00:00,  3.01s/it]"
     ]
    },
    {
     "name": "stdout",
     "output_type": "stream",
     "text": [
      "                   all         60        201      0.713      0.627      0.685      0.422\n"
     ]
    },
    {
     "name": "stderr",
     "output_type": "stream",
     "text": [
      "\n"
     ]
    },
    {
     "name": "stdout",
     "output_type": "stream",
     "text": [
      "\n",
      "      Epoch    GPU_mem   box_loss   cls_loss   dfl_loss  Instances       Size\n"
     ]
    },
    {
     "name": "stderr",
     "output_type": "stream",
     "text": [
      "      33/50         0G      1.084      0.812       1.12         32        416: 100%|██████████| 45/45 [03:02<00:00,  4.05s/it]\n",
      "                 Class     Images  Instances      Box(P          R      mAP50  mAP50-95): 100%|██████████| 2/2 [00:06<00:00,  3.43s/it]"
     ]
    },
    {
     "name": "stdout",
     "output_type": "stream",
     "text": [
      "                   all         60        201      0.702      0.662      0.685      0.423\n"
     ]
    },
    {
     "name": "stderr",
     "output_type": "stream",
     "text": [
      "\n"
     ]
    },
    {
     "name": "stdout",
     "output_type": "stream",
     "text": [
      "\n",
      "      Epoch    GPU_mem   box_loss   cls_loss   dfl_loss  Instances       Size\n"
     ]
    },
    {
     "name": "stderr",
     "output_type": "stream",
     "text": [
      "      34/50         0G      1.046     0.7885      1.095         39        416: 100%|██████████| 45/45 [03:07<00:00,  4.17s/it]\n",
      "                 Class     Images  Instances      Box(P          R      mAP50  mAP50-95): 100%|██████████| 2/2 [00:06<00:00,  3.47s/it]"
     ]
    },
    {
     "name": "stdout",
     "output_type": "stream",
     "text": [
      "                   all         60        201      0.727      0.677      0.719      0.433\n"
     ]
    },
    {
     "name": "stderr",
     "output_type": "stream",
     "text": [
      "\n"
     ]
    },
    {
     "name": "stdout",
     "output_type": "stream",
     "text": [
      "\n",
      "      Epoch    GPU_mem   box_loss   cls_loss   dfl_loss  Instances       Size\n"
     ]
    },
    {
     "name": "stderr",
     "output_type": "stream",
     "text": [
      "      35/50         0G      1.048     0.7573      1.093         46        416: 100%|██████████| 45/45 [04:28<00:00,  5.98s/it]\n",
      "                 Class     Images  Instances      Box(P          R      mAP50  mAP50-95): 100%|██████████| 2/2 [00:06<00:00,  3.21s/it]"
     ]
    },
    {
     "name": "stdout",
     "output_type": "stream",
     "text": [
      "                   all         60        201      0.678      0.711       0.72      0.446\n"
     ]
    },
    {
     "name": "stderr",
     "output_type": "stream",
     "text": [
      "\n"
     ]
    },
    {
     "name": "stdout",
     "output_type": "stream",
     "text": [
      "\n",
      "      Epoch    GPU_mem   box_loss   cls_loss   dfl_loss  Instances       Size\n"
     ]
    },
    {
     "name": "stderr",
     "output_type": "stream",
     "text": [
      "      36/50         0G      1.045     0.7616      1.081         73        416: 100%|██████████| 45/45 [03:32<00:00,  4.72s/it]\n",
      "                 Class     Images  Instances      Box(P          R      mAP50  mAP50-95): 100%|██████████| 2/2 [00:07<00:00,  3.59s/it]"
     ]
    },
    {
     "name": "stdout",
     "output_type": "stream",
     "text": [
      "                   all         60        201      0.763      0.607      0.694      0.421\n"
     ]
    },
    {
     "name": "stderr",
     "output_type": "stream",
     "text": [
      "\n"
     ]
    },
    {
     "name": "stdout",
     "output_type": "stream",
     "text": [
      "\n",
      "      Epoch    GPU_mem   box_loss   cls_loss   dfl_loss  Instances       Size\n"
     ]
    },
    {
     "name": "stderr",
     "output_type": "stream",
     "text": [
      "      37/50         0G      1.013     0.7455      1.081         37        416: 100%|██████████| 45/45 [03:48<00:00,  5.09s/it]\n",
      "                 Class     Images  Instances      Box(P          R      mAP50  mAP50-95): 100%|██████████| 2/2 [00:06<00:00,  3.48s/it]"
     ]
    },
    {
     "name": "stdout",
     "output_type": "stream",
     "text": [
      "                   all         60        201      0.646      0.711      0.699      0.414\n"
     ]
    },
    {
     "name": "stderr",
     "output_type": "stream",
     "text": [
      "\n"
     ]
    },
    {
     "name": "stdout",
     "output_type": "stream",
     "text": [
      "\n",
      "      Epoch    GPU_mem   box_loss   cls_loss   dfl_loss  Instances       Size\n"
     ]
    },
    {
     "name": "stderr",
     "output_type": "stream",
     "text": [
      "      38/50         0G      1.001      0.748      1.057         47        416: 100%|██████████| 45/45 [59:24<00:00, 79.20s/it]    \n",
      "                 Class     Images  Instances      Box(P          R      mAP50  mAP50-95): 100%|██████████| 2/2 [00:06<00:00,  3.36s/it]"
     ]
    },
    {
     "name": "stdout",
     "output_type": "stream",
     "text": [
      "                   all         60        201      0.695      0.667      0.696      0.428\n"
     ]
    },
    {
     "name": "stderr",
     "output_type": "stream",
     "text": [
      "\n"
     ]
    },
    {
     "name": "stdout",
     "output_type": "stream",
     "text": [
      "\n",
      "      Epoch    GPU_mem   box_loss   cls_loss   dfl_loss  Instances       Size\n"
     ]
    },
    {
     "name": "stderr",
     "output_type": "stream",
     "text": [
      "      39/50         0G      1.011      0.726      1.065         70        416: 100%|██████████| 45/45 [03:16<00:00,  4.37s/it]\n",
      "                 Class     Images  Instances      Box(P          R      mAP50  mAP50-95): 100%|██████████| 2/2 [00:07<00:00,  3.88s/it]"
     ]
    },
    {
     "name": "stdout",
     "output_type": "stream",
     "text": [
      "                   all         60        201      0.704      0.662      0.695      0.437\n"
     ]
    },
    {
     "name": "stderr",
     "output_type": "stream",
     "text": [
      "\n"
     ]
    },
    {
     "name": "stdout",
     "output_type": "stream",
     "text": [
      "\n",
      "      Epoch    GPU_mem   box_loss   cls_loss   dfl_loss  Instances       Size\n"
     ]
    },
    {
     "name": "stderr",
     "output_type": "stream",
     "text": [
      "      40/50         0G      1.003     0.7063      1.063         58        416: 100%|██████████| 45/45 [03:16<00:00,  4.38s/it]\n",
      "                 Class     Images  Instances      Box(P          R      mAP50  mAP50-95): 100%|██████████| 2/2 [00:06<00:00,  3.39s/it]"
     ]
    },
    {
     "name": "stdout",
     "output_type": "stream",
     "text": [
      "                   all         60        201      0.705      0.697      0.717      0.423\n"
     ]
    },
    {
     "name": "stderr",
     "output_type": "stream",
     "text": [
      "\n"
     ]
    },
    {
     "name": "stdout",
     "output_type": "stream",
     "text": [
      "Closing dataloader mosaic\n",
      "\n",
      "      Epoch    GPU_mem   box_loss   cls_loss   dfl_loss  Instances       Size\n"
     ]
    },
    {
     "name": "stderr",
     "output_type": "stream",
     "text": [
      "      41/50         0G      0.965     0.6733      1.045         35        416: 100%|██████████| 45/45 [03:19<00:00,  4.44s/it]\n",
      "                 Class     Images  Instances      Box(P          R      mAP50  mAP50-95): 100%|██████████| 2/2 [00:06<00:00,  3.44s/it]"
     ]
    },
    {
     "name": "stdout",
     "output_type": "stream",
     "text": [
      "                   all         60        201      0.687      0.642      0.685      0.421\n"
     ]
    },
    {
     "name": "stderr",
     "output_type": "stream",
     "text": [
      "\n"
     ]
    },
    {
     "name": "stdout",
     "output_type": "stream",
     "text": [
      "\n",
      "      Epoch    GPU_mem   box_loss   cls_loss   dfl_loss  Instances       Size\n"
     ]
    },
    {
     "name": "stderr",
     "output_type": "stream",
     "text": [
      "      42/50         0G     0.9447     0.6202      1.034         28        416: 100%|██████████| 45/45 [03:15<00:00,  4.35s/it]\n",
      "                 Class     Images  Instances      Box(P          R      mAP50  mAP50-95): 100%|██████████| 2/2 [00:07<00:00,  3.72s/it]"
     ]
    },
    {
     "name": "stdout",
     "output_type": "stream",
     "text": [
      "                   all         60        201      0.667      0.709      0.693      0.436\n"
     ]
    },
    {
     "name": "stderr",
     "output_type": "stream",
     "text": [
      "\n"
     ]
    },
    {
     "name": "stdout",
     "output_type": "stream",
     "text": [
      "\n",
      "      Epoch    GPU_mem   box_loss   cls_loss   dfl_loss  Instances       Size\n"
     ]
    },
    {
     "name": "stderr",
     "output_type": "stream",
     "text": [
      "      43/50         0G     0.9151     0.5934       1.01         30        416: 100%|██████████| 45/45 [03:15<00:00,  4.34s/it]\n",
      "                 Class     Images  Instances      Box(P          R      mAP50  mAP50-95): 100%|██████████| 2/2 [00:06<00:00,  3.44s/it]"
     ]
    },
    {
     "name": "stdout",
     "output_type": "stream",
     "text": [
      "                   all         60        201      0.703      0.677      0.695      0.427\n"
     ]
    },
    {
     "name": "stderr",
     "output_type": "stream",
     "text": [
      "\n"
     ]
    },
    {
     "name": "stdout",
     "output_type": "stream",
     "text": [
      "\n",
      "      Epoch    GPU_mem   box_loss   cls_loss   dfl_loss  Instances       Size\n"
     ]
    },
    {
     "name": "stderr",
     "output_type": "stream",
     "text": [
      "      44/50         0G     0.8917      0.572     0.9968         35        416: 100%|██████████| 45/45 [03:15<00:00,  4.34s/it]\n",
      "                 Class     Images  Instances      Box(P          R      mAP50  mAP50-95): 100%|██████████| 2/2 [00:06<00:00,  3.43s/it]"
     ]
    },
    {
     "name": "stdout",
     "output_type": "stream",
     "text": [
      "                   all         60        201      0.752      0.672       0.71      0.422\n"
     ]
    },
    {
     "name": "stderr",
     "output_type": "stream",
     "text": [
      "\n"
     ]
    },
    {
     "name": "stdout",
     "output_type": "stream",
     "text": [
      "\n",
      "      Epoch    GPU_mem   box_loss   cls_loss   dfl_loss  Instances       Size\n"
     ]
    },
    {
     "name": "stderr",
     "output_type": "stream",
     "text": [
      "      45/50         0G     0.9003     0.5562      1.001         28        416: 100%|██████████| 45/45 [03:20<00:00,  4.46s/it]\n",
      "                 Class     Images  Instances      Box(P          R      mAP50  mAP50-95): 100%|██████████| 2/2 [00:06<00:00,  3.45s/it]"
     ]
    },
    {
     "name": "stdout",
     "output_type": "stream",
     "text": [
      "                   all         60        201       0.72      0.687      0.711       0.44\n"
     ]
    },
    {
     "name": "stderr",
     "output_type": "stream",
     "text": [
      "\n"
     ]
    },
    {
     "name": "stdout",
     "output_type": "stream",
     "text": [
      "\n",
      "      Epoch    GPU_mem   box_loss   cls_loss   dfl_loss  Instances       Size\n"
     ]
    },
    {
     "name": "stderr",
     "output_type": "stream",
     "text": [
      "      46/50         0G     0.8735     0.5512      0.995         35        416: 100%|██████████| 45/45 [03:20<00:00,  4.45s/it]\n",
      "                 Class     Images  Instances      Box(P          R      mAP50  mAP50-95): 100%|██████████| 2/2 [00:06<00:00,  3.48s/it]"
     ]
    },
    {
     "name": "stdout",
     "output_type": "stream",
     "text": [
      "                   all         60        201       0.71      0.657      0.689      0.423\n"
     ]
    },
    {
     "name": "stderr",
     "output_type": "stream",
     "text": [
      "\n"
     ]
    },
    {
     "name": "stdout",
     "output_type": "stream",
     "text": [
      "\n",
      "      Epoch    GPU_mem   box_loss   cls_loss   dfl_loss  Instances       Size\n"
     ]
    },
    {
     "name": "stderr",
     "output_type": "stream",
     "text": [
      "      47/50         0G     0.8584     0.5344      0.988         35        416: 100%|██████████| 45/45 [03:19<00:00,  4.43s/it]\n",
      "                 Class     Images  Instances      Box(P          R      mAP50  mAP50-95): 100%|██████████| 2/2 [00:06<00:00,  3.20s/it]"
     ]
    },
    {
     "name": "stdout",
     "output_type": "stream",
     "text": [
      "                   all         60        201      0.737      0.685      0.701      0.437\n"
     ]
    },
    {
     "name": "stderr",
     "output_type": "stream",
     "text": [
      "\n"
     ]
    },
    {
     "name": "stdout",
     "output_type": "stream",
     "text": [
      "\n",
      "      Epoch    GPU_mem   box_loss   cls_loss   dfl_loss  Instances       Size\n"
     ]
    },
    {
     "name": "stderr",
     "output_type": "stream",
     "text": [
      "      48/50         0G     0.8494     0.5275     0.9836         68        416: 100%|██████████| 45/45 [03:12<00:00,  4.27s/it]\n",
      "                 Class     Images  Instances      Box(P          R      mAP50  mAP50-95): 100%|██████████| 2/2 [00:06<00:00,  3.23s/it]"
     ]
    },
    {
     "name": "stdout",
     "output_type": "stream",
     "text": [
      "                   all         60        201      0.741      0.687      0.708      0.435\n"
     ]
    },
    {
     "name": "stderr",
     "output_type": "stream",
     "text": [
      "\n"
     ]
    },
    {
     "name": "stdout",
     "output_type": "stream",
     "text": [
      "\n",
      "      Epoch    GPU_mem   box_loss   cls_loss   dfl_loss  Instances       Size\n"
     ]
    },
    {
     "name": "stderr",
     "output_type": "stream",
     "text": [
      "      49/50         0G     0.8383     0.5264     0.9837         32        416: 100%|██████████| 45/45 [04:31<00:00,  6.04s/it]\n",
      "                 Class     Images  Instances      Box(P          R      mAP50  mAP50-95): 100%|██████████| 2/2 [00:13<00:00,  6.92s/it]"
     ]
    },
    {
     "name": "stdout",
     "output_type": "stream",
     "text": [
      "                   all         60        201      0.727      0.682      0.707      0.433\n"
     ]
    },
    {
     "name": "stderr",
     "output_type": "stream",
     "text": [
      "\n"
     ]
    },
    {
     "name": "stdout",
     "output_type": "stream",
     "text": [
      "\n",
      "      Epoch    GPU_mem   box_loss   cls_loss   dfl_loss  Instances       Size\n"
     ]
    },
    {
     "name": "stderr",
     "output_type": "stream",
     "text": [
      "      50/50         0G     0.8142     0.5096     0.9659         21        416: 100%|██████████| 45/45 [06:33<00:00,  8.75s/it]\n",
      "                 Class     Images  Instances      Box(P          R      mAP50  mAP50-95): 100%|██████████| 2/2 [00:13<00:00,  6.97s/it]"
     ]
    },
    {
     "name": "stdout",
     "output_type": "stream",
     "text": [
      "                   all         60        201      0.714      0.684      0.703      0.433\n"
     ]
    },
    {
     "name": "stderr",
     "output_type": "stream",
     "text": [
      "\n"
     ]
    },
    {
     "name": "stdout",
     "output_type": "stream",
     "text": [
      "\n",
      "50 epochs completed in 4.202 hours.\n",
      "Optimizer stripped from runs\\detect\\train4\\weights\\last.pt, 18.5MB\n",
      "Optimizer stripped from runs\\detect\\train4\\weights\\best.pt, 18.5MB\n",
      "\n",
      "Validating runs\\detect\\train4\\weights\\best.pt...\n",
      "Ultralytics 8.3.107  Python-3.11.9 torch-2.6.0+cpu CPU (11th Gen Intel Core(TM) i5-1155G7 2.50GHz)\n",
      "YOLOv5s summary (fused): 84 layers, 9,111,923 parameters, 0 gradients, 23.8 GFLOPs\n"
     ]
    },
    {
     "name": "stderr",
     "output_type": "stream",
     "text": [
      "                 Class     Images  Instances      Box(P          R      mAP50  mAP50-95): 100%|██████████| 2/2 [00:13<00:00,  6.67s/it]\n"
     ]
    },
    {
     "name": "stdout",
     "output_type": "stream",
     "text": [
      "                   all         60        201      0.678      0.711       0.72      0.446\n",
      "Speed: 1.7ms preprocess, 188.5ms inference, 0.0ms loss, 1.5ms postprocess per image\n",
      "Results saved to \u001b[1mruns\\detect\\train4\u001b[0m\n"
     ]
    },
    {
     "data": {
      "text/plain": [
       "ultralytics.utils.metrics.DetMetrics object with attributes:\n",
       "\n",
       "ap_class_index: array([0])\n",
       "box: ultralytics.utils.metrics.Metric object\n",
       "confusion_matrix: <ultralytics.utils.metrics.ConfusionMatrix object at 0x00000266726B37D0>\n",
       "curves: ['Precision-Recall(B)', 'F1-Confidence(B)', 'Precision-Confidence(B)', 'Recall-Confidence(B)']\n",
       "curves_results: [[array([          0,    0.001001,    0.002002,    0.003003,    0.004004,    0.005005,    0.006006,    0.007007,    0.008008,    0.009009,     0.01001,    0.011011,    0.012012,    0.013013,    0.014014,    0.015015,    0.016016,    0.017017,    0.018018,    0.019019,     0.02002,    0.021021,    0.022022,    0.023023,\n",
       "          0.024024,    0.025025,    0.026026,    0.027027,    0.028028,    0.029029,     0.03003,    0.031031,    0.032032,    0.033033,    0.034034,    0.035035,    0.036036,    0.037037,    0.038038,    0.039039,     0.04004,    0.041041,    0.042042,    0.043043,    0.044044,    0.045045,    0.046046,    0.047047,\n",
       "          0.048048,    0.049049,     0.05005,    0.051051,    0.052052,    0.053053,    0.054054,    0.055055,    0.056056,    0.057057,    0.058058,    0.059059,     0.06006,    0.061061,    0.062062,    0.063063,    0.064064,    0.065065,    0.066066,    0.067067,    0.068068,    0.069069,     0.07007,    0.071071,\n",
       "          0.072072,    0.073073,    0.074074,    0.075075,    0.076076,    0.077077,    0.078078,    0.079079,     0.08008,    0.081081,    0.082082,    0.083083,    0.084084,    0.085085,    0.086086,    0.087087,    0.088088,    0.089089,     0.09009,    0.091091,    0.092092,    0.093093,    0.094094,    0.095095,\n",
       "          0.096096,    0.097097,    0.098098,    0.099099,      0.1001,      0.1011,      0.1021,      0.1031,      0.1041,     0.10511,     0.10611,     0.10711,     0.10811,     0.10911,     0.11011,     0.11111,     0.11211,     0.11311,     0.11411,     0.11512,     0.11612,     0.11712,     0.11812,     0.11912,\n",
       "           0.12012,     0.12112,     0.12212,     0.12312,     0.12412,     0.12513,     0.12613,     0.12713,     0.12813,     0.12913,     0.13013,     0.13113,     0.13213,     0.13313,     0.13413,     0.13514,     0.13614,     0.13714,     0.13814,     0.13914,     0.14014,     0.14114,     0.14214,     0.14314,\n",
       "           0.14414,     0.14515,     0.14615,     0.14715,     0.14815,     0.14915,     0.15015,     0.15115,     0.15215,     0.15315,     0.15415,     0.15516,     0.15616,     0.15716,     0.15816,     0.15916,     0.16016,     0.16116,     0.16216,     0.16316,     0.16416,     0.16517,     0.16617,     0.16717,\n",
       "           0.16817,     0.16917,     0.17017,     0.17117,     0.17217,     0.17317,     0.17417,     0.17518,     0.17618,     0.17718,     0.17818,     0.17918,     0.18018,     0.18118,     0.18218,     0.18318,     0.18418,     0.18519,     0.18619,     0.18719,     0.18819,     0.18919,     0.19019,     0.19119,\n",
       "           0.19219,     0.19319,     0.19419,      0.1952,      0.1962,      0.1972,      0.1982,      0.1992,      0.2002,      0.2012,      0.2022,      0.2032,      0.2042,     0.20521,     0.20621,     0.20721,     0.20821,     0.20921,     0.21021,     0.21121,     0.21221,     0.21321,     0.21421,     0.21522,\n",
       "           0.21622,     0.21722,     0.21822,     0.21922,     0.22022,     0.22122,     0.22222,     0.22322,     0.22422,     0.22523,     0.22623,     0.22723,     0.22823,     0.22923,     0.23023,     0.23123,     0.23223,     0.23323,     0.23423,     0.23524,     0.23624,     0.23724,     0.23824,     0.23924,\n",
       "           0.24024,     0.24124,     0.24224,     0.24324,     0.24424,     0.24525,     0.24625,     0.24725,     0.24825,     0.24925,     0.25025,     0.25125,     0.25225,     0.25325,     0.25425,     0.25526,     0.25626,     0.25726,     0.25826,     0.25926,     0.26026,     0.26126,     0.26226,     0.26326,\n",
       "           0.26426,     0.26527,     0.26627,     0.26727,     0.26827,     0.26927,     0.27027,     0.27127,     0.27227,     0.27327,     0.27427,     0.27528,     0.27628,     0.27728,     0.27828,     0.27928,     0.28028,     0.28128,     0.28228,     0.28328,     0.28428,     0.28529,     0.28629,     0.28729,\n",
       "           0.28829,     0.28929,     0.29029,     0.29129,     0.29229,     0.29329,     0.29429,      0.2953,      0.2963,      0.2973,      0.2983,      0.2993,      0.3003,      0.3013,      0.3023,      0.3033,      0.3043,     0.30531,     0.30631,     0.30731,     0.30831,     0.30931,     0.31031,     0.31131,\n",
       "           0.31231,     0.31331,     0.31431,     0.31532,     0.31632,     0.31732,     0.31832,     0.31932,     0.32032,     0.32132,     0.32232,     0.32332,     0.32432,     0.32533,     0.32633,     0.32733,     0.32833,     0.32933,     0.33033,     0.33133,     0.33233,     0.33333,     0.33433,     0.33534,\n",
       "           0.33634,     0.33734,     0.33834,     0.33934,     0.34034,     0.34134,     0.34234,     0.34334,     0.34434,     0.34535,     0.34635,     0.34735,     0.34835,     0.34935,     0.35035,     0.35135,     0.35235,     0.35335,     0.35435,     0.35536,     0.35636,     0.35736,     0.35836,     0.35936,\n",
       "           0.36036,     0.36136,     0.36236,     0.36336,     0.36436,     0.36537,     0.36637,     0.36737,     0.36837,     0.36937,     0.37037,     0.37137,     0.37237,     0.37337,     0.37437,     0.37538,     0.37638,     0.37738,     0.37838,     0.37938,     0.38038,     0.38138,     0.38238,     0.38338,\n",
       "           0.38438,     0.38539,     0.38639,     0.38739,     0.38839,     0.38939,     0.39039,     0.39139,     0.39239,     0.39339,     0.39439,      0.3954,      0.3964,      0.3974,      0.3984,      0.3994,      0.4004,      0.4014,      0.4024,      0.4034,      0.4044,     0.40541,     0.40641,     0.40741,\n",
       "           0.40841,     0.40941,     0.41041,     0.41141,     0.41241,     0.41341,     0.41441,     0.41542,     0.41642,     0.41742,     0.41842,     0.41942,     0.42042,     0.42142,     0.42242,     0.42342,     0.42442,     0.42543,     0.42643,     0.42743,     0.42843,     0.42943,     0.43043,     0.43143,\n",
       "           0.43243,     0.43343,     0.43443,     0.43544,     0.43644,     0.43744,     0.43844,     0.43944,     0.44044,     0.44144,     0.44244,     0.44344,     0.44444,     0.44545,     0.44645,     0.44745,     0.44845,     0.44945,     0.45045,     0.45145,     0.45245,     0.45345,     0.45445,     0.45546,\n",
       "           0.45646,     0.45746,     0.45846,     0.45946,     0.46046,     0.46146,     0.46246,     0.46346,     0.46446,     0.46547,     0.46647,     0.46747,     0.46847,     0.46947,     0.47047,     0.47147,     0.47247,     0.47347,     0.47447,     0.47548,     0.47648,     0.47748,     0.47848,     0.47948,\n",
       "           0.48048,     0.48148,     0.48248,     0.48348,     0.48448,     0.48549,     0.48649,     0.48749,     0.48849,     0.48949,     0.49049,     0.49149,     0.49249,     0.49349,     0.49449,      0.4955,      0.4965,      0.4975,      0.4985,      0.4995,      0.5005,      0.5015,      0.5025,      0.5035,\n",
       "            0.5045,     0.50551,     0.50651,     0.50751,     0.50851,     0.50951,     0.51051,     0.51151,     0.51251,     0.51351,     0.51451,     0.51552,     0.51652,     0.51752,     0.51852,     0.51952,     0.52052,     0.52152,     0.52252,     0.52352,     0.52452,     0.52553,     0.52653,     0.52753,\n",
       "           0.52853,     0.52953,     0.53053,     0.53153,     0.53253,     0.53353,     0.53453,     0.53554,     0.53654,     0.53754,     0.53854,     0.53954,     0.54054,     0.54154,     0.54254,     0.54354,     0.54454,     0.54555,     0.54655,     0.54755,     0.54855,     0.54955,     0.55055,     0.55155,\n",
       "           0.55255,     0.55355,     0.55455,     0.55556,     0.55656,     0.55756,     0.55856,     0.55956,     0.56056,     0.56156,     0.56256,     0.56356,     0.56456,     0.56557,     0.56657,     0.56757,     0.56857,     0.56957,     0.57057,     0.57157,     0.57257,     0.57357,     0.57457,     0.57558,\n",
       "           0.57658,     0.57758,     0.57858,     0.57958,     0.58058,     0.58158,     0.58258,     0.58358,     0.58458,     0.58559,     0.58659,     0.58759,     0.58859,     0.58959,     0.59059,     0.59159,     0.59259,     0.59359,     0.59459,      0.5956,      0.5966,      0.5976,      0.5986,      0.5996,\n",
       "            0.6006,      0.6016,      0.6026,      0.6036,      0.6046,     0.60561,     0.60661,     0.60761,     0.60861,     0.60961,     0.61061,     0.61161,     0.61261,     0.61361,     0.61461,     0.61562,     0.61662,     0.61762,     0.61862,     0.61962,     0.62062,     0.62162,     0.62262,     0.62362,\n",
       "           0.62462,     0.62563,     0.62663,     0.62763,     0.62863,     0.62963,     0.63063,     0.63163,     0.63263,     0.63363,     0.63463,     0.63564,     0.63664,     0.63764,     0.63864,     0.63964,     0.64064,     0.64164,     0.64264,     0.64364,     0.64464,     0.64565,     0.64665,     0.64765,\n",
       "           0.64865,     0.64965,     0.65065,     0.65165,     0.65265,     0.65365,     0.65465,     0.65566,     0.65666,     0.65766,     0.65866,     0.65966,     0.66066,     0.66166,     0.66266,     0.66366,     0.66466,     0.66567,     0.66667,     0.66767,     0.66867,     0.66967,     0.67067,     0.67167,\n",
       "           0.67267,     0.67367,     0.67467,     0.67568,     0.67668,     0.67768,     0.67868,     0.67968,     0.68068,     0.68168,     0.68268,     0.68368,     0.68468,     0.68569,     0.68669,     0.68769,     0.68869,     0.68969,     0.69069,     0.69169,     0.69269,     0.69369,     0.69469,      0.6957,\n",
       "            0.6967,      0.6977,      0.6987,      0.6997,      0.7007,      0.7017,      0.7027,      0.7037,      0.7047,     0.70571,     0.70671,     0.70771,     0.70871,     0.70971,     0.71071,     0.71171,     0.71271,     0.71371,     0.71471,     0.71572,     0.71672,     0.71772,     0.71872,     0.71972,\n",
       "           0.72072,     0.72172,     0.72272,     0.72372,     0.72472,     0.72573,     0.72673,     0.72773,     0.72873,     0.72973,     0.73073,     0.73173,     0.73273,     0.73373,     0.73473,     0.73574,     0.73674,     0.73774,     0.73874,     0.73974,     0.74074,     0.74174,     0.74274,     0.74374,\n",
       "           0.74474,     0.74575,     0.74675,     0.74775,     0.74875,     0.74975,     0.75075,     0.75175,     0.75275,     0.75375,     0.75475,     0.75576,     0.75676,     0.75776,     0.75876,     0.75976,     0.76076,     0.76176,     0.76276,     0.76376,     0.76476,     0.76577,     0.76677,     0.76777,\n",
       "           0.76877,     0.76977,     0.77077,     0.77177,     0.77277,     0.77377,     0.77477,     0.77578,     0.77678,     0.77778,     0.77878,     0.77978,     0.78078,     0.78178,     0.78278,     0.78378,     0.78478,     0.78579,     0.78679,     0.78779,     0.78879,     0.78979,     0.79079,     0.79179,\n",
       "           0.79279,     0.79379,     0.79479,      0.7958,      0.7968,      0.7978,      0.7988,      0.7998,      0.8008,      0.8018,      0.8028,      0.8038,      0.8048,     0.80581,     0.80681,     0.80781,     0.80881,     0.80981,     0.81081,     0.81181,     0.81281,     0.81381,     0.81481,     0.81582,\n",
       "           0.81682,     0.81782,     0.81882,     0.81982,     0.82082,     0.82182,     0.82282,     0.82382,     0.82482,     0.82583,     0.82683,     0.82783,     0.82883,     0.82983,     0.83083,     0.83183,     0.83283,     0.83383,     0.83483,     0.83584,     0.83684,     0.83784,     0.83884,     0.83984,\n",
       "           0.84084,     0.84184,     0.84284,     0.84384,     0.84484,     0.84585,     0.84685,     0.84785,     0.84885,     0.84985,     0.85085,     0.85185,     0.85285,     0.85385,     0.85485,     0.85586,     0.85686,     0.85786,     0.85886,     0.85986,     0.86086,     0.86186,     0.86286,     0.86386,\n",
       "           0.86486,     0.86587,     0.86687,     0.86787,     0.86887,     0.86987,     0.87087,     0.87187,     0.87287,     0.87387,     0.87487,     0.87588,     0.87688,     0.87788,     0.87888,     0.87988,     0.88088,     0.88188,     0.88288,     0.88388,     0.88488,     0.88589,     0.88689,     0.88789,\n",
       "           0.88889,     0.88989,     0.89089,     0.89189,     0.89289,     0.89389,     0.89489,      0.8959,      0.8969,      0.8979,      0.8989,      0.8999,      0.9009,      0.9019,      0.9029,      0.9039,      0.9049,     0.90591,     0.90691,     0.90791,     0.90891,     0.90991,     0.91091,     0.91191,\n",
       "           0.91291,     0.91391,     0.91491,     0.91592,     0.91692,     0.91792,     0.91892,     0.91992,     0.92092,     0.92192,     0.92292,     0.92392,     0.92492,     0.92593,     0.92693,     0.92793,     0.92893,     0.92993,     0.93093,     0.93193,     0.93293,     0.93393,     0.93493,     0.93594,\n",
       "           0.93694,     0.93794,     0.93894,     0.93994,     0.94094,     0.94194,     0.94294,     0.94394,     0.94494,     0.94595,     0.94695,     0.94795,     0.94895,     0.94995,     0.95095,     0.95195,     0.95295,     0.95395,     0.95495,     0.95596,     0.95696,     0.95796,     0.95896,     0.95996,\n",
       "           0.96096,     0.96196,     0.96296,     0.96396,     0.96496,     0.96597,     0.96697,     0.96797,     0.96897,     0.96997,     0.97097,     0.97197,     0.97297,     0.97397,     0.97497,     0.97598,     0.97698,     0.97798,     0.97898,     0.97998,     0.98098,     0.98198,     0.98298,     0.98398,\n",
       "           0.98498,     0.98599,     0.98699,     0.98799,     0.98899,     0.98999,     0.99099,     0.99199,     0.99299,     0.99399,     0.99499,       0.996,       0.997,       0.998,       0.999,           1]), array([[          1,           1,           1,           1,           1,           1,           1,           1,           1,           1,           1,           1,           1,           1,           1,           1,           1,           1,           1,           1,           1,           1,           1,\n",
       "                  1,           1,           1,           1,           1,           1,           1,           1,           1,           1,           1,           1,           1,           1,           1,           1,           1,           1,           1,           1,           1,           1,           1,\n",
       "                  1,           1,           1,           1,           1,           1,           1,           1,           1,           1,           1,           1,           1,           1,           1,           1,           1,           1,           1,     0.96154,     0.96154,     0.96154,     0.96154,\n",
       "            0.96154,     0.96154,     0.96154,     0.96154,     0.96154,     0.96154,     0.96154,     0.96154,     0.96154,     0.96154,     0.96154,     0.96154,     0.96154,     0.96154,     0.96154,     0.96154,     0.96154,     0.96154,     0.96154,     0.96154,     0.96154,     0.96154,     0.96154,\n",
       "            0.96154,     0.96154,     0.96154,     0.96154,     0.96154,     0.96154,     0.96154,     0.96154,     0.96154,     0.96154,     0.96154,     0.96154,     0.96154,     0.96154,     0.96154,     0.96154,     0.96154,     0.96154,     0.96154,     0.96154,     0.96154,     0.96154,     0.96154,\n",
       "            0.96154,     0.96154,     0.96154,     0.96154,     0.96154,     0.96154,     0.96154,     0.96154,     0.96154,     0.96154,     0.95652,     0.95652,     0.95652,     0.95652,     0.95652,     0.95652,     0.95652,     0.95652,     0.95652,     0.95652,     0.95652,     0.95652,     0.95652,\n",
       "            0.95652,     0.95652,     0.95652,     0.95652,     0.95652,     0.95652,     0.95652,     0.95652,     0.95652,     0.95652,     0.95652,     0.95652,     0.95652,     0.95652,     0.95652,     0.95652,     0.95652,     0.95652,     0.95652,     0.95652,     0.95652,     0.95652,     0.95652,\n",
       "            0.95652,     0.95652,     0.95652,     0.95652,     0.95652,     0.95652,     0.95652,     0.95652,     0.95652,     0.95652,     0.95652,     0.95652,     0.95652,     0.95652,     0.95652,     0.95652,     0.95652,     0.95652,     0.95652,     0.95652,     0.95652,     0.95652,     0.95652,\n",
       "            0.95652,     0.95652,     0.95652,     0.95652,     0.95652,     0.95652,     0.95652,     0.95652,     0.95652,     0.95652,     0.95652,     0.95652,     0.95652,     0.95652,     0.95652,     0.95652,     0.95652,     0.95652,     0.95652,     0.95652,     0.95652,     0.95652,     0.95652,\n",
       "            0.95652,     0.95652,     0.95652,     0.95652,     0.95652,     0.95652,     0.95652,     0.95652,     0.95652,     0.95652,     0.95652,     0.95652,        0.94,        0.94,        0.94,        0.94,        0.94,        0.94,        0.94,        0.94,        0.94,        0.94,        0.94,\n",
       "               0.94,        0.94,        0.94,        0.94,     0.90741,     0.90741,     0.90741,     0.90741,     0.90741,     0.90741,     0.90741,     0.90741,     0.90741,     0.90741,     0.89286,     0.89286,     0.89286,     0.89286,     0.89286,     0.89062,     0.89062,     0.89062,     0.89062,\n",
       "            0.89062,     0.89062,     0.89062,     0.89062,     0.89062,     0.89062,     0.89062,     0.89062,     0.89062,     0.89062,     0.89062,     0.89062,     0.89062,     0.89062,     0.89062,     0.89062,     0.89062,     0.89062,     0.89062,     0.89062,     0.89062,     0.89062,     0.89062,\n",
       "            0.89062,     0.89062,     0.89062,     0.89062,     0.89062,     0.89062,     0.89062,     0.89062,     0.87879,     0.87879,     0.87879,     0.87879,     0.87879,       0.875,       0.875,       0.875,       0.875,       0.875,       0.875,       0.875,       0.875,       0.875,       0.875,\n",
       "              0.875,       0.875,       0.875,       0.875,       0.875,       0.875,       0.875,       0.875,       0.875,       0.875,       0.875,       0.875,       0.875,       0.875,       0.875,     0.86813,     0.86813,     0.86813,     0.86813,     0.86813,     0.86813,     0.86813,     0.86813,\n",
       "            0.86813,     0.86813,     0.86813,     0.86813,     0.86813,     0.86813,     0.86813,     0.86813,     0.86813,     0.86813,     0.86813,     0.86813,     0.86813,     0.86813,     0.86813,     0.86813,     0.86813,     0.86813,     0.86813,     0.86813,     0.86813,     0.86813,     0.86813,\n",
       "            0.86813,     0.86813,     0.86813,     0.86813,     0.86813,     0.86813,     0.86813,     0.86813,     0.86813,     0.86813,     0.86813,     0.86813,     0.86813,     0.86813,     0.86813,     0.86813,     0.86813,     0.86813,     0.86813,     0.86813,     0.86813,     0.86813,     0.86813,\n",
       "            0.86813,     0.86813,     0.86813,     0.86813,     0.86813,     0.86813,     0.86813,     0.86813,     0.86813,     0.86813,     0.86813,     0.86813,     0.86813,     0.86813,     0.86813,     0.86813,     0.86813,     0.86813,     0.86813,     0.86813,     0.86813,     0.86813,     0.86813,\n",
       "            0.86813,     0.86813,     0.86022,     0.86022,     0.86022,     0.86022,     0.86022,     0.85567,     0.85567,     0.85567,     0.85567,     0.85567,     0.85567,     0.85567,     0.85567,     0.85567,     0.85567,     0.85567,     0.85567,     0.85567,     0.85567,     0.85567,     0.85149,\n",
       "            0.85149,     0.85149,     0.85149,     0.85149,     0.85149,     0.85149,     0.85149,     0.85149,     0.85149,     0.85149,     0.85149,     0.85149,     0.85149,     0.85149,     0.84466,     0.84466,     0.84466,     0.84466,     0.84466,     0.84259,     0.84259,     0.84259,     0.84259,\n",
       "            0.84259,     0.84259,     0.84259,     0.84259,     0.84259,     0.84259,     0.84259,     0.84259,     0.84259,     0.84259,     0.84259,     0.84259,     0.84259,     0.84259,     0.84259,     0.84259,     0.83333,     0.83333,     0.83333,     0.83333,     0.83333,     0.83333,     0.83333,\n",
       "            0.83333,     0.83333,     0.83333,     0.83333,     0.83333,     0.83333,     0.83333,     0.83333,     0.83333,     0.83333,     0.83333,     0.83333,     0.83333,     0.82759,     0.82759,     0.82759,     0.82759,     0.82759,     0.81301,     0.81301,     0.81301,     0.81301,     0.81301,\n",
       "            0.81301,     0.81301,     0.81301,     0.81301,     0.81301,     0.81301,     0.81301,     0.81301,     0.81301,     0.81301,     0.81301,     0.81301,     0.81301,     0.81301,     0.81301,      0.8125,      0.8125,      0.8125,      0.8125,      0.8125,      0.8125,      0.8125,      0.8125,\n",
       "             0.8125,      0.8125,      0.8125,      0.8125,      0.8125,      0.8125,      0.8125,      0.8125,      0.8125,      0.8125,      0.8125,     0.80916,     0.80916,     0.80916,     0.80916,     0.80916,     0.80916,     0.80916,     0.80916,     0.80916,     0.80916,         0.8,         0.8,\n",
       "                0.8,         0.8,         0.8,         0.8,         0.8,         0.8,         0.8,         0.8,     0.79562,     0.79562,     0.79562,     0.79562,     0.79562,     0.78571,     0.78571,     0.78571,     0.78571,     0.78571,     0.77778,     0.77778,     0.77778,     0.77778,     0.77778,\n",
       "            0.77778,     0.77778,     0.77778,     0.77778,     0.77778,     0.77397,     0.77397,     0.77397,     0.77397,     0.77397,     0.76667,     0.76667,     0.76667,     0.76667,     0.76667,     0.76667,     0.76667,     0.76667,     0.76667,     0.76667,     0.75817,     0.75817,     0.75817,\n",
       "            0.75817,     0.75817,     0.75484,     0.75484,     0.75484,     0.75484,     0.75484,     0.75159,     0.75159,     0.75159,     0.75159,     0.75159,        0.75,        0.75,        0.75,        0.75,        0.75,        0.75,        0.75,        0.75,        0.75,        0.75,     0.73964,\n",
       "            0.73964,     0.73964,     0.73964,     0.73964,     0.73964,     0.73964,     0.73964,     0.73964,     0.73964,     0.73964,     0.73964,     0.73964,     0.73964,     0.73964,     0.73964,     0.73964,     0.73964,     0.73964,     0.73964,     0.73964,     0.73964,     0.73964,     0.73964,\n",
       "            0.73964,     0.73446,     0.73446,     0.73446,     0.73446,     0.73446,     0.73446,     0.73446,     0.73446,     0.73446,     0.73446,     0.73446,     0.73446,     0.73446,     0.73446,     0.73446,     0.73446,     0.73446,     0.73446,     0.73446,     0.73446,     0.73446,     0.73446,\n",
       "            0.73446,     0.73446,     0.73446,     0.72527,     0.72527,     0.72527,     0.72527,     0.72527,     0.72527,     0.72527,     0.72527,     0.72527,     0.72527,     0.71505,     0.71505,     0.71505,     0.71505,     0.71505,     0.70526,     0.70526,     0.70526,     0.70526,     0.70312,\n",
       "            0.70312,     0.70312,     0.70312,     0.70312,     0.70103,     0.70103,     0.70103,     0.70103,     0.70103,     0.69543,     0.69543,     0.69543,     0.69543,     0.69543,     0.69347,     0.69347,     0.69347,     0.69347,     0.69347,     0.69154,     0.69154,     0.69154,     0.69154,\n",
       "            0.69154,     0.68966,     0.68966,     0.68966,     0.68966,     0.68966,     0.68447,     0.68447,     0.68447,     0.68447,     0.68447,     0.68269,     0.68269,     0.68269,     0.68269,     0.68269,     0.67925,     0.67925,     0.67925,     0.67925,     0.67925,     0.67925,     0.67925,\n",
       "            0.67925,     0.67925,     0.67925,     0.67442,     0.67442,     0.67442,     0.67442,     0.67442,     0.65198,     0.65198,     0.65198,     0.65198,     0.65198,     0.65198,     0.65198,     0.65198,     0.65198,     0.65198,     0.65198,     0.65198,     0.65198,     0.65198,     0.65198,\n",
       "            0.63559,     0.63559,     0.63559,     0.63559,     0.63559,     0.63559,     0.63559,     0.63559,     0.63559,     0.63559,     0.61382,     0.61382,     0.61382,     0.61382,     0.61382,     0.59922,     0.59922,     0.59922,     0.59922,     0.59922,     0.59922,     0.59922,     0.59922,\n",
       "            0.59922,     0.59922,     0.59922,     0.59922,     0.59922,     0.59922,     0.59922,     0.59615,     0.59615,     0.59615,     0.59615,     0.59615,     0.58868,     0.58868,     0.58868,     0.58868,     0.58868,     0.58801,     0.58801,     0.58801,     0.58801,     0.58801,     0.56835,\n",
       "            0.56835,     0.56835,     0.56835,     0.56835,     0.56786,     0.56786,     0.56786,     0.56786,     0.56786,     0.56537,     0.56537,     0.56537,     0.56537,     0.56537,     0.56294,     0.56294,     0.56294,     0.56294,     0.56294,     0.56055,     0.56055,     0.56055,     0.56055,\n",
       "            0.56055,     0.55254,     0.55254,     0.55254,     0.55254,     0.55254,     0.53595,     0.53595,     0.53595,     0.53595,     0.53595,     0.53226,     0.53226,     0.53226,     0.53226,     0.53226,     0.51875,     0.51875,     0.51875,     0.51875,     0.51875,     0.50606,     0.50606,\n",
       "            0.50606,     0.50606,     0.50606,      0.4898,      0.4898,      0.4898,      0.4898,     0.47875,     0.47875,     0.47875,     0.47875,     0.47875,     0.46575,     0.46575,     0.46575,     0.46575,     0.46575,        0.45,        0.45,        0.45,        0.45,        0.45,     0.44103,\n",
       "            0.44103,     0.44103,     0.44103,     0.44103,     0.41487,     0.41487,     0.41487,     0.41487,     0.41487,     0.38158,     0.38158,     0.38158,     0.38158,     0.38158,     0.35714,     0.35714,     0.35714,     0.35714,     0.35714,     0.35484,     0.35484,     0.35484,     0.35484,\n",
       "            0.35484,     0.29064,     0.29064,     0.29064,     0.29064,     0.29064,     0.28031,     0.28031,     0.28031,     0.28031,     0.28031,     0.25718,     0.25718,     0.25718,     0.25718,     0.25718,     0.21792,     0.21792,     0.21792,     0.21792,     0.21792,     0.21755,     0.21755,\n",
       "            0.21755,     0.21755,     0.21755,     0.21538,     0.21538,     0.21538,     0.21538,     0.21538,     0.21132,     0.21132,     0.21132,     0.21132,     0.21132,     0.20697,     0.20697,     0.20697,     0.20697,     0.20697,     0.19577,     0.19577,     0.19577,     0.19577,     0.19577,\n",
       "            0.19255,     0.19255,     0.19255,     0.19255,     0.19255,     0.10859,     0.10859,     0.10859,     0.10859,     0.10859,     0.10021,     0.10021,     0.10021,     0.10021,     0.10021,    0.096824,    0.096824,    0.096824,    0.096824,    0.096824,    0.082039,    0.080648,    0.079258,\n",
       "           0.077867,    0.076477,    0.075086,    0.073696,    0.072305,    0.070915,    0.069524,    0.068134,    0.066743,    0.065353,    0.063962,    0.062572,    0.061181,    0.059791,      0.0584,     0.05701,    0.055619,    0.054229,    0.052838,    0.051448,    0.050058,    0.048667,    0.047277,\n",
       "           0.045886,    0.044496,    0.043105,    0.041715,    0.040324,    0.038934,    0.037543,    0.036153,    0.034762,    0.033372,    0.031981,    0.030591,      0.0292,     0.02781,    0.026419,    0.025029,    0.023638,    0.022248,    0.020857,    0.019467,    0.018076,    0.016686,    0.015295,\n",
       "           0.013905,    0.012514,    0.011124,   0.0097334,   0.0083429,   0.0069524,   0.0055619,   0.0041715,    0.002781,   0.0013905,           0]]), 'Recall', 'Precision'], [array([          0,    0.001001,    0.002002,    0.003003,    0.004004,    0.005005,    0.006006,    0.007007,    0.008008,    0.009009,     0.01001,    0.011011,    0.012012,    0.013013,    0.014014,    0.015015,    0.016016,    0.017017,    0.018018,    0.019019,     0.02002,    0.021021,    0.022022,    0.023023,\n",
       "          0.024024,    0.025025,    0.026026,    0.027027,    0.028028,    0.029029,     0.03003,    0.031031,    0.032032,    0.033033,    0.034034,    0.035035,    0.036036,    0.037037,    0.038038,    0.039039,     0.04004,    0.041041,    0.042042,    0.043043,    0.044044,    0.045045,    0.046046,    0.047047,\n",
       "          0.048048,    0.049049,     0.05005,    0.051051,    0.052052,    0.053053,    0.054054,    0.055055,    0.056056,    0.057057,    0.058058,    0.059059,     0.06006,    0.061061,    0.062062,    0.063063,    0.064064,    0.065065,    0.066066,    0.067067,    0.068068,    0.069069,     0.07007,    0.071071,\n",
       "          0.072072,    0.073073,    0.074074,    0.075075,    0.076076,    0.077077,    0.078078,    0.079079,     0.08008,    0.081081,    0.082082,    0.083083,    0.084084,    0.085085,    0.086086,    0.087087,    0.088088,    0.089089,     0.09009,    0.091091,    0.092092,    0.093093,    0.094094,    0.095095,\n",
       "          0.096096,    0.097097,    0.098098,    0.099099,      0.1001,      0.1011,      0.1021,      0.1031,      0.1041,     0.10511,     0.10611,     0.10711,     0.10811,     0.10911,     0.11011,     0.11111,     0.11211,     0.11311,     0.11411,     0.11512,     0.11612,     0.11712,     0.11812,     0.11912,\n",
       "           0.12012,     0.12112,     0.12212,     0.12312,     0.12412,     0.12513,     0.12613,     0.12713,     0.12813,     0.12913,     0.13013,     0.13113,     0.13213,     0.13313,     0.13413,     0.13514,     0.13614,     0.13714,     0.13814,     0.13914,     0.14014,     0.14114,     0.14214,     0.14314,\n",
       "           0.14414,     0.14515,     0.14615,     0.14715,     0.14815,     0.14915,     0.15015,     0.15115,     0.15215,     0.15315,     0.15415,     0.15516,     0.15616,     0.15716,     0.15816,     0.15916,     0.16016,     0.16116,     0.16216,     0.16316,     0.16416,     0.16517,     0.16617,     0.16717,\n",
       "           0.16817,     0.16917,     0.17017,     0.17117,     0.17217,     0.17317,     0.17417,     0.17518,     0.17618,     0.17718,     0.17818,     0.17918,     0.18018,     0.18118,     0.18218,     0.18318,     0.18418,     0.18519,     0.18619,     0.18719,     0.18819,     0.18919,     0.19019,     0.19119,\n",
       "           0.19219,     0.19319,     0.19419,      0.1952,      0.1962,      0.1972,      0.1982,      0.1992,      0.2002,      0.2012,      0.2022,      0.2032,      0.2042,     0.20521,     0.20621,     0.20721,     0.20821,     0.20921,     0.21021,     0.21121,     0.21221,     0.21321,     0.21421,     0.21522,\n",
       "           0.21622,     0.21722,     0.21822,     0.21922,     0.22022,     0.22122,     0.22222,     0.22322,     0.22422,     0.22523,     0.22623,     0.22723,     0.22823,     0.22923,     0.23023,     0.23123,     0.23223,     0.23323,     0.23423,     0.23524,     0.23624,     0.23724,     0.23824,     0.23924,\n",
       "           0.24024,     0.24124,     0.24224,     0.24324,     0.24424,     0.24525,     0.24625,     0.24725,     0.24825,     0.24925,     0.25025,     0.25125,     0.25225,     0.25325,     0.25425,     0.25526,     0.25626,     0.25726,     0.25826,     0.25926,     0.26026,     0.26126,     0.26226,     0.26326,\n",
       "           0.26426,     0.26527,     0.26627,     0.26727,     0.26827,     0.26927,     0.27027,     0.27127,     0.27227,     0.27327,     0.27427,     0.27528,     0.27628,     0.27728,     0.27828,     0.27928,     0.28028,     0.28128,     0.28228,     0.28328,     0.28428,     0.28529,     0.28629,     0.28729,\n",
       "           0.28829,     0.28929,     0.29029,     0.29129,     0.29229,     0.29329,     0.29429,      0.2953,      0.2963,      0.2973,      0.2983,      0.2993,      0.3003,      0.3013,      0.3023,      0.3033,      0.3043,     0.30531,     0.30631,     0.30731,     0.30831,     0.30931,     0.31031,     0.31131,\n",
       "           0.31231,     0.31331,     0.31431,     0.31532,     0.31632,     0.31732,     0.31832,     0.31932,     0.32032,     0.32132,     0.32232,     0.32332,     0.32432,     0.32533,     0.32633,     0.32733,     0.32833,     0.32933,     0.33033,     0.33133,     0.33233,     0.33333,     0.33433,     0.33534,\n",
       "           0.33634,     0.33734,     0.33834,     0.33934,     0.34034,     0.34134,     0.34234,     0.34334,     0.34434,     0.34535,     0.34635,     0.34735,     0.34835,     0.34935,     0.35035,     0.35135,     0.35235,     0.35335,     0.35435,     0.35536,     0.35636,     0.35736,     0.35836,     0.35936,\n",
       "           0.36036,     0.36136,     0.36236,     0.36336,     0.36436,     0.36537,     0.36637,     0.36737,     0.36837,     0.36937,     0.37037,     0.37137,     0.37237,     0.37337,     0.37437,     0.37538,     0.37638,     0.37738,     0.37838,     0.37938,     0.38038,     0.38138,     0.38238,     0.38338,\n",
       "           0.38438,     0.38539,     0.38639,     0.38739,     0.38839,     0.38939,     0.39039,     0.39139,     0.39239,     0.39339,     0.39439,      0.3954,      0.3964,      0.3974,      0.3984,      0.3994,      0.4004,      0.4014,      0.4024,      0.4034,      0.4044,     0.40541,     0.40641,     0.40741,\n",
       "           0.40841,     0.40941,     0.41041,     0.41141,     0.41241,     0.41341,     0.41441,     0.41542,     0.41642,     0.41742,     0.41842,     0.41942,     0.42042,     0.42142,     0.42242,     0.42342,     0.42442,     0.42543,     0.42643,     0.42743,     0.42843,     0.42943,     0.43043,     0.43143,\n",
       "           0.43243,     0.43343,     0.43443,     0.43544,     0.43644,     0.43744,     0.43844,     0.43944,     0.44044,     0.44144,     0.44244,     0.44344,     0.44444,     0.44545,     0.44645,     0.44745,     0.44845,     0.44945,     0.45045,     0.45145,     0.45245,     0.45345,     0.45445,     0.45546,\n",
       "           0.45646,     0.45746,     0.45846,     0.45946,     0.46046,     0.46146,     0.46246,     0.46346,     0.46446,     0.46547,     0.46647,     0.46747,     0.46847,     0.46947,     0.47047,     0.47147,     0.47247,     0.47347,     0.47447,     0.47548,     0.47648,     0.47748,     0.47848,     0.47948,\n",
       "           0.48048,     0.48148,     0.48248,     0.48348,     0.48448,     0.48549,     0.48649,     0.48749,     0.48849,     0.48949,     0.49049,     0.49149,     0.49249,     0.49349,     0.49449,      0.4955,      0.4965,      0.4975,      0.4985,      0.4995,      0.5005,      0.5015,      0.5025,      0.5035,\n",
       "            0.5045,     0.50551,     0.50651,     0.50751,     0.50851,     0.50951,     0.51051,     0.51151,     0.51251,     0.51351,     0.51451,     0.51552,     0.51652,     0.51752,     0.51852,     0.51952,     0.52052,     0.52152,     0.52252,     0.52352,     0.52452,     0.52553,     0.52653,     0.52753,\n",
       "           0.52853,     0.52953,     0.53053,     0.53153,     0.53253,     0.53353,     0.53453,     0.53554,     0.53654,     0.53754,     0.53854,     0.53954,     0.54054,     0.54154,     0.54254,     0.54354,     0.54454,     0.54555,     0.54655,     0.54755,     0.54855,     0.54955,     0.55055,     0.55155,\n",
       "           0.55255,     0.55355,     0.55455,     0.55556,     0.55656,     0.55756,     0.55856,     0.55956,     0.56056,     0.56156,     0.56256,     0.56356,     0.56456,     0.56557,     0.56657,     0.56757,     0.56857,     0.56957,     0.57057,     0.57157,     0.57257,     0.57357,     0.57457,     0.57558,\n",
       "           0.57658,     0.57758,     0.57858,     0.57958,     0.58058,     0.58158,     0.58258,     0.58358,     0.58458,     0.58559,     0.58659,     0.58759,     0.58859,     0.58959,     0.59059,     0.59159,     0.59259,     0.59359,     0.59459,      0.5956,      0.5966,      0.5976,      0.5986,      0.5996,\n",
       "            0.6006,      0.6016,      0.6026,      0.6036,      0.6046,     0.60561,     0.60661,     0.60761,     0.60861,     0.60961,     0.61061,     0.61161,     0.61261,     0.61361,     0.61461,     0.61562,     0.61662,     0.61762,     0.61862,     0.61962,     0.62062,     0.62162,     0.62262,     0.62362,\n",
       "           0.62462,     0.62563,     0.62663,     0.62763,     0.62863,     0.62963,     0.63063,     0.63163,     0.63263,     0.63363,     0.63463,     0.63564,     0.63664,     0.63764,     0.63864,     0.63964,     0.64064,     0.64164,     0.64264,     0.64364,     0.64464,     0.64565,     0.64665,     0.64765,\n",
       "           0.64865,     0.64965,     0.65065,     0.65165,     0.65265,     0.65365,     0.65465,     0.65566,     0.65666,     0.65766,     0.65866,     0.65966,     0.66066,     0.66166,     0.66266,     0.66366,     0.66466,     0.66567,     0.66667,     0.66767,     0.66867,     0.66967,     0.67067,     0.67167,\n",
       "           0.67267,     0.67367,     0.67467,     0.67568,     0.67668,     0.67768,     0.67868,     0.67968,     0.68068,     0.68168,     0.68268,     0.68368,     0.68468,     0.68569,     0.68669,     0.68769,     0.68869,     0.68969,     0.69069,     0.69169,     0.69269,     0.69369,     0.69469,      0.6957,\n",
       "            0.6967,      0.6977,      0.6987,      0.6997,      0.7007,      0.7017,      0.7027,      0.7037,      0.7047,     0.70571,     0.70671,     0.70771,     0.70871,     0.70971,     0.71071,     0.71171,     0.71271,     0.71371,     0.71471,     0.71572,     0.71672,     0.71772,     0.71872,     0.71972,\n",
       "           0.72072,     0.72172,     0.72272,     0.72372,     0.72472,     0.72573,     0.72673,     0.72773,     0.72873,     0.72973,     0.73073,     0.73173,     0.73273,     0.73373,     0.73473,     0.73574,     0.73674,     0.73774,     0.73874,     0.73974,     0.74074,     0.74174,     0.74274,     0.74374,\n",
       "           0.74474,     0.74575,     0.74675,     0.74775,     0.74875,     0.74975,     0.75075,     0.75175,     0.75275,     0.75375,     0.75475,     0.75576,     0.75676,     0.75776,     0.75876,     0.75976,     0.76076,     0.76176,     0.76276,     0.76376,     0.76476,     0.76577,     0.76677,     0.76777,\n",
       "           0.76877,     0.76977,     0.77077,     0.77177,     0.77277,     0.77377,     0.77477,     0.77578,     0.77678,     0.77778,     0.77878,     0.77978,     0.78078,     0.78178,     0.78278,     0.78378,     0.78478,     0.78579,     0.78679,     0.78779,     0.78879,     0.78979,     0.79079,     0.79179,\n",
       "           0.79279,     0.79379,     0.79479,      0.7958,      0.7968,      0.7978,      0.7988,      0.7998,      0.8008,      0.8018,      0.8028,      0.8038,      0.8048,     0.80581,     0.80681,     0.80781,     0.80881,     0.80981,     0.81081,     0.81181,     0.81281,     0.81381,     0.81481,     0.81582,\n",
       "           0.81682,     0.81782,     0.81882,     0.81982,     0.82082,     0.82182,     0.82282,     0.82382,     0.82482,     0.82583,     0.82683,     0.82783,     0.82883,     0.82983,     0.83083,     0.83183,     0.83283,     0.83383,     0.83483,     0.83584,     0.83684,     0.83784,     0.83884,     0.83984,\n",
       "           0.84084,     0.84184,     0.84284,     0.84384,     0.84484,     0.84585,     0.84685,     0.84785,     0.84885,     0.84985,     0.85085,     0.85185,     0.85285,     0.85385,     0.85485,     0.85586,     0.85686,     0.85786,     0.85886,     0.85986,     0.86086,     0.86186,     0.86286,     0.86386,\n",
       "           0.86486,     0.86587,     0.86687,     0.86787,     0.86887,     0.86987,     0.87087,     0.87187,     0.87287,     0.87387,     0.87487,     0.87588,     0.87688,     0.87788,     0.87888,     0.87988,     0.88088,     0.88188,     0.88288,     0.88388,     0.88488,     0.88589,     0.88689,     0.88789,\n",
       "           0.88889,     0.88989,     0.89089,     0.89189,     0.89289,     0.89389,     0.89489,      0.8959,      0.8969,      0.8979,      0.8989,      0.8999,      0.9009,      0.9019,      0.9029,      0.9039,      0.9049,     0.90591,     0.90691,     0.90791,     0.90891,     0.90991,     0.91091,     0.91191,\n",
       "           0.91291,     0.91391,     0.91491,     0.91592,     0.91692,     0.91792,     0.91892,     0.91992,     0.92092,     0.92192,     0.92292,     0.92392,     0.92492,     0.92593,     0.92693,     0.92793,     0.92893,     0.92993,     0.93093,     0.93193,     0.93293,     0.93393,     0.93493,     0.93594,\n",
       "           0.93694,     0.93794,     0.93894,     0.93994,     0.94094,     0.94194,     0.94294,     0.94394,     0.94494,     0.94595,     0.94695,     0.94795,     0.94895,     0.94995,     0.95095,     0.95195,     0.95295,     0.95395,     0.95495,     0.95596,     0.95696,     0.95796,     0.95896,     0.95996,\n",
       "           0.96096,     0.96196,     0.96296,     0.96396,     0.96496,     0.96597,     0.96697,     0.96797,     0.96897,     0.96997,     0.97097,     0.97197,     0.97297,     0.97397,     0.97497,     0.97598,     0.97698,     0.97798,     0.97898,     0.97998,     0.98098,     0.98198,     0.98298,     0.98398,\n",
       "           0.98498,     0.98599,     0.98699,     0.98799,     0.98899,     0.98999,     0.99099,     0.99199,     0.99299,     0.99399,     0.99499,       0.996,       0.997,       0.998,       0.999,           1]), array([[    0.15242,     0.15251,     0.21139,     0.24851,     0.28772,      0.3128,     0.33162,     0.34973,     0.36465,      0.3874,     0.39842,     0.40795,     0.41758,     0.42475,     0.43553,     0.44373,     0.44793,     0.45871,     0.46349,     0.46866,     0.47366,     0.48064,      0.4853,\n",
       "            0.49019,     0.49452,      0.4991,     0.50365,     0.50552,     0.50643,     0.51276,     0.51928,     0.52301,     0.52614,     0.52847,     0.52837,     0.53098,     0.53368,     0.53668,     0.53927,     0.54192,     0.54692,     0.54853,     0.55034,     0.55202,      0.5555,     0.55903,\n",
       "            0.56035,     0.56222,     0.56281,     0.56431,      0.5658,     0.56829,     0.57048,     0.57211,     0.57826,     0.58201,     0.58147,     0.58574,      0.5864,     0.58849,     0.58654,     0.58821,     0.58879,     0.58977,     0.59217,     0.59503,     0.59681,     0.59745,     0.60013,\n",
       "            0.59843,     0.59891,     0.60253,     0.60303,     0.60354,     0.60454,     0.60586,     0.60621,     0.60656,      0.6073,     0.60833,     0.60893,     0.60853,      0.6101,     0.61201,     0.61339,     0.61549,     0.61666,     0.61567,     0.61809,     0.61935,     0.62328,       0.624,\n",
       "            0.62488,     0.62585,      0.6274,     0.62915,     0.63248,     0.63296,     0.63344,     0.63431,     0.63524,      0.6363,     0.63546,     0.63539,     0.63833,     0.63958,     0.63998,     0.64038,     0.64081,     0.64203,     0.64324,     0.64371,     0.64416,     0.64468,     0.64549,\n",
       "            0.64331,     0.64497,     0.64443,     0.64616,     0.64737,     0.64804,     0.64903,     0.65107,     0.65207,     0.65267,     0.65326,     0.65416,     0.65504,     0.65586,     0.65689,      0.6561,     0.65531,     0.65464,     0.65618,     0.65667,     0.65715,     0.65994,     0.65985,\n",
       "            0.66116,     0.66008,     0.65901,     0.65972,     0.66015,     0.66051,     0.66087,     0.65971,     0.65879,     0.65929,     0.65981,      0.6606,     0.66082,     0.65994,     0.65907,      0.6587,     0.65771,     0.65785,     0.65901,     0.65994,      0.6606,     0.66152,     0.66257,\n",
       "            0.66292,     0.66326,     0.66361,     0.66392,     0.66414,     0.66437,      0.6646,     0.66483,     0.66505,     0.66632,     0.66717,     0.66769,      0.6696,     0.67057,      0.6696,     0.66863,     0.66866,     0.66813,      0.6672,     0.66799,     0.66923,     0.67018,     0.67111,\n",
       "            0.67092,      0.6697,     0.67005,     0.67041,     0.67077,     0.67133,     0.67244,     0.66676,     0.66691,     0.66707,     0.66723,     0.66738,     0.66754,      0.6677,     0.66785,     0.66801,      0.6678,     0.66636,     0.66628,     0.67022,     0.67119,     0.67142,     0.67165,\n",
       "            0.67188,     0.67211,     0.67234,     0.67257,     0.67416,     0.67549,     0.67506,     0.67463,      0.6742,     0.67377,     0.67333,      0.6729,     0.67387,     0.67469,     0.67527,     0.67714,     0.67812,     0.67885,      0.6792,     0.67954,     0.67989,     0.68023,      0.6808,\n",
       "             0.6814,     0.68357,     0.68431,       0.685,     0.68545,     0.68589,     0.68633,     0.68593,     0.68501,     0.68409,     0.68207,     0.68054,     0.68066,     0.68079,     0.68091,     0.68104,     0.68117,     0.68129,     0.68142,     0.68154,     0.68167,     0.68179,     0.68192,\n",
       "            0.68223,     0.68372,     0.68444,     0.68516,     0.68694,     0.68722,      0.6875,     0.68777,     0.68805,     0.68832,      0.6887,     0.68909,     0.68948,     0.68987,      0.6908,     0.69074,     0.68455,     0.68281,     0.68362,     0.68468,     0.68575,     0.68637,     0.68698,\n",
       "            0.68861,     0.68919,     0.68958,     0.68997,     0.69036,     0.69058,     0.69072,     0.69086,       0.691,     0.69114,     0.69129,     0.69143,     0.69157,     0.69171,     0.69185,     0.69199,     0.69217,     0.69275,     0.69333,     0.69385,     0.69415,     0.69446,     0.69476,\n",
       "            0.69507,     0.69538,     0.69579,     0.69622,     0.69666,      0.6971,     0.69404,     0.69449,     0.69494,     0.69539,     0.69617,     0.69733,     0.69709,     0.69684,      0.6966,     0.69636,     0.69612,     0.69588,     0.69563,     0.69539,     0.69515,     0.69491,     0.69466,\n",
       "            0.69442,     0.69418,     0.69364,      0.6931,     0.69256,     0.69202,     0.69147,     0.69155,     0.69343,     0.69433,     0.69351,     0.69269,     0.69187,     0.69135,     0.69249,     0.69276,     0.69259,     0.69241,     0.69224,     0.69207,     0.69189,     0.69172,     0.69155,\n",
       "            0.69137,      0.6912,     0.69103,     0.69085,     0.69068,     0.69051,     0.69033,     0.69016,     0.68998,     0.68981,     0.68968,      0.6899,     0.69011,     0.69033,     0.69055,     0.69077,     0.69098,      0.6912,     0.69193,     0.69043,     0.69073,     0.69131,     0.69013,\n",
       "            0.68894,     0.68876,     0.68981,     0.68704,     0.68774,     0.68844,     0.68521,     0.68545,      0.6857,     0.68594,     0.68619,     0.68643,     0.68668,     0.68825,     0.68546,     0.68547,     0.68567,     0.68587,     0.68608,     0.68628,     0.68648,     0.68668,     0.68689,\n",
       "            0.68661,     0.68533,     0.68405,     0.68439,      0.6829,     0.68236,     0.68308,      0.6838,     0.68584,     0.68689,     0.68438,     0.68541,     0.68795,     0.68854,     0.68913,     0.68833,     0.68698,     0.68545,     0.68311,     0.68432,     0.68455,     0.68478,     0.68501,\n",
       "            0.68524,     0.68547,      0.6857,     0.68593,     0.68631,      0.6868,     0.68729,     0.68778,     0.68756,     0.68726,     0.68696,     0.68665,     0.68635,     0.68605,     0.68575,     0.68544,     0.68514,     0.68484,     0.68453,     0.68401,     0.68312,     0.68224,     0.68136,\n",
       "             0.6773,       0.677,      0.6767,      0.6764,     0.67609,     0.67579,     0.67549,     0.67519,     0.67488,     0.67458,     0.67428,     0.67397,      0.6733,     0.67213,     0.67095,     0.67094,     0.67237,     0.67329,      0.6744,     0.67555,     0.67442,     0.67329,     0.67216,\n",
       "            0.66836,       0.668,     0.66764,     0.66728,     0.66692,     0.66656,      0.6662,     0.66584,     0.66548,     0.66512,     0.66468,     0.66401,     0.66334,     0.66268,     0.66201,     0.66134,     0.65915,     0.65766,       0.658,     0.65834,     0.65868,     0.65902,     0.65969,\n",
       "             0.6619,     0.66293,     0.66356,     0.66416,     0.66477,     0.66101,     0.65974,     0.65846,     0.65792,     0.65871,      0.6579,     0.65708,     0.65627,     0.65547,     0.65606,     0.65664,     0.65722,     0.65656,     0.65569,     0.65483,     0.65396,     0.65374,      0.6542,\n",
       "            0.65465,      0.6551,     0.65512,     0.65453,     0.65393,     0.65334,     0.65274,     0.65215,     0.65156,     0.65187,     0.65217,     0.65248,     0.65278,     0.65309,     0.65339,      0.6536,     0.65379,     0.65399,     0.65419,     0.65438,     0.65458,     0.65478,     0.65497,\n",
       "            0.65517,     0.65169,     0.65076,     0.65006,     0.64937,     0.64867,     0.64798,     0.64764,     0.64783,     0.64802,     0.64821,      0.6484,     0.64859,     0.64878,     0.64897,     0.64916,     0.64935,     0.64962,     0.64993,     0.65023,     0.65054,     0.65085,     0.65116,\n",
       "            0.65047,     0.64899,     0.64751,     0.64756,     0.64774,     0.64792,      0.6481,     0.64828,     0.64846,     0.64864,     0.64882,       0.649,     0.64918,     0.64787,     0.64528,     0.64495,     0.64462,     0.64428,     0.64395,     0.64362,     0.64329,     0.64296,     0.64262,\n",
       "            0.64229,     0.64196,     0.64163,     0.64184,      0.6432,     0.64411,       0.645,     0.64405,      0.6427,     0.64134,     0.64237,      0.6412,     0.64247,     0.64159,      0.6407,     0.63981,     0.63893,     0.63483,     0.63505,     0.63528,      0.6355,     0.63572,     0.63594,\n",
       "            0.63617,     0.63639,     0.63661,     0.63697,     0.63736,     0.63774,     0.63812,      0.6385,      0.6377,     0.63671,     0.63573,     0.63474,     0.63087,     0.63184,     0.62756,     0.62651,     0.62546,      0.6244,     0.62141,     0.61623,      0.6152,     0.61212,     0.60808,\n",
       "            0.60716,     0.60623,     0.60531,     0.60438,     0.60329,     0.60219,     0.60108,     0.60002,     0.60088,     0.60173,     0.60204,     0.60223,     0.60241,      0.6026,     0.60279,     0.60298,     0.60316,     0.60335,     0.60354,     0.60373,     0.60489,     0.60527,     0.60441,\n",
       "            0.60355,     0.60268,     0.60182,     0.60239,     0.60176,     0.59986,     0.59809,     0.59652,     0.59495,     0.59364,     0.59255,     0.59146,     0.59037,     0.58643,     0.58755,      0.5881,     0.58865,     0.58686,     0.58348,     0.58187,     0.58026,     0.57644,     0.57256,\n",
       "            0.57097,     0.57208,      0.5715,     0.57034,     0.56917,       0.568,     0.56781,     0.56802,     0.56823,     0.56844,     0.56866,     0.56887,     0.56908,     0.56929,      0.5695,     0.56888,     0.56807,     0.56727,     0.56646,     0.56566,     0.56485,      0.5589,     0.55616,\n",
       "            0.55677,     0.55522,     0.55316,     0.55137,     0.54983,     0.54828,      0.5451,     0.54253,     0.54281,     0.54309,     0.54337,     0.54364,     0.54392,      0.5442,      0.5394,     0.53979,     0.54018,     0.54056,     0.54094,     0.53972,     0.53743,     0.53525,     0.53321,\n",
       "            0.53117,     0.52776,     0.52069,     0.51874,      0.5168,     0.51538,     0.51466,     0.51395,     0.51324,     0.51252,     0.51181,      0.5111,      0.5103,     0.50908,     0.50786,     0.50663,     0.50541,     0.49772,     0.49508,     0.49274,     0.49046,      0.4834,     0.47965,\n",
       "            0.47599,     0.47065,      0.4689,     0.46652,     0.46515,     0.46459,     0.46404,     0.46349,     0.46293,     0.46238,     0.46182,     0.46127,     0.46071,     0.46015,     0.46076,      0.4607,     0.45931,     0.45791,     0.45651,     0.45306,      0.4489,     0.44599,     0.43915,\n",
       "            0.43741,      0.4361,     0.43479,     0.43348,     0.43401,     0.42983,     0.42911,     0.42988,     0.42389,     0.42152,     0.41914,     0.41187,     0.40771,     0.40585,     0.40539,     0.40494,     0.40449,     0.40403,     0.40358,     0.40312,     0.40267,     0.40221,     0.40176,\n",
       "             0.4013,     0.40085,     0.40039,      0.3997,     0.39758,     0.39547,     0.38789,     0.38878,     0.38736,     0.38593,      0.3845,     0.38307,     0.38365,     0.38252,     0.37752,     0.37422,     0.37172,     0.37262,     0.37316,     0.37343,      0.3737,     0.37397,     0.37423,\n",
       "            0.37449,     0.37256,     0.37055,     0.36854,     0.36027,     0.35739,     0.35492,     0.35558,     0.35622,     0.35297,      0.3494,      0.3465,      0.3436,     0.34036,     0.33699,     0.32812,     0.32556,       0.323,     0.31612,     0.31368,     0.31185,     0.31001,     0.30616,\n",
       "            0.29924,     0.29667,      0.2941,      0.2916,      0.2891,     0.28301,     0.27832,     0.27682,     0.27531,      0.2738,     0.27219,      0.2683,     0.26449,     0.26129,     0.25808,     0.25303,     0.24742,     0.24113,     0.23363,     0.23024,     0.22686,     0.22379,     0.22071,\n",
       "            0.21948,     0.21981,     0.22013,      0.2167,     0.21143,      0.2082,     0.20495,     0.20298,     0.20124,      0.1995,     0.19776,     0.19582,     0.19323,     0.19064,     0.18749,     0.18011,     0.17703,     0.17394,     0.17136,      0.1697,     0.16804,     0.16638,     0.16472,\n",
       "            0.16279,     0.16038,     0.15797,     0.15555,     0.14753,     0.14212,     0.13372,     0.12263,     0.12121,     0.12144,     0.12093,     0.12041,     0.11989,     0.11937,     0.11885,     0.11833,     0.11781,     0.11728,     0.11676,     0.11624,     0.11572,      0.1152,     0.11468,\n",
       "            0.11415,     0.11363,     0.11311,      0.1124,     0.11085,     0.10929,     0.10773,     0.10617,     0.10461,     0.10283,     0.10078,    0.098738,    0.096687,    0.094566,    0.091614,    0.088652,    0.085699,      0.0843,    0.082899,    0.081496,    0.080091,    0.078683,    0.077274,\n",
       "           0.074153,    0.069236,    0.065693,    0.063035,    0.060371,     0.05783,    0.056441,    0.055051,    0.053658,    0.052264,    0.050867,    0.049469,    0.048164,    0.047044,    0.045923,      0.0448,    0.043676,    0.042551,    0.041424,    0.040297,    0.039168,    0.030249,    0.028347,\n",
       "           0.027184,     0.02602,    0.024854,    0.023688,    0.022519,     0.02135,    0.020179,     0.01818,    0.015612,    0.013039,    0.010458,           0,           0,           0,           0,           0,           0,           0,           0,           0,           0,           0,           0,\n",
       "                  0,           0,           0,           0,           0,           0,           0,           0,           0,           0,           0,           0,           0,           0,           0,           0,           0,           0,           0,           0,           0,           0,           0,\n",
       "                  0,           0,           0,           0,           0,           0,           0,           0,           0,           0,           0]]), 'Confidence', 'F1'], [array([          0,    0.001001,    0.002002,    0.003003,    0.004004,    0.005005,    0.006006,    0.007007,    0.008008,    0.009009,     0.01001,    0.011011,    0.012012,    0.013013,    0.014014,    0.015015,    0.016016,    0.017017,    0.018018,    0.019019,     0.02002,    0.021021,    0.022022,    0.023023,\n",
       "          0.024024,    0.025025,    0.026026,    0.027027,    0.028028,    0.029029,     0.03003,    0.031031,    0.032032,    0.033033,    0.034034,    0.035035,    0.036036,    0.037037,    0.038038,    0.039039,     0.04004,    0.041041,    0.042042,    0.043043,    0.044044,    0.045045,    0.046046,    0.047047,\n",
       "          0.048048,    0.049049,     0.05005,    0.051051,    0.052052,    0.053053,    0.054054,    0.055055,    0.056056,    0.057057,    0.058058,    0.059059,     0.06006,    0.061061,    0.062062,    0.063063,    0.064064,    0.065065,    0.066066,    0.067067,    0.068068,    0.069069,     0.07007,    0.071071,\n",
       "          0.072072,    0.073073,    0.074074,    0.075075,    0.076076,    0.077077,    0.078078,    0.079079,     0.08008,    0.081081,    0.082082,    0.083083,    0.084084,    0.085085,    0.086086,    0.087087,    0.088088,    0.089089,     0.09009,    0.091091,    0.092092,    0.093093,    0.094094,    0.095095,\n",
       "          0.096096,    0.097097,    0.098098,    0.099099,      0.1001,      0.1011,      0.1021,      0.1031,      0.1041,     0.10511,     0.10611,     0.10711,     0.10811,     0.10911,     0.11011,     0.11111,     0.11211,     0.11311,     0.11411,     0.11512,     0.11612,     0.11712,     0.11812,     0.11912,\n",
       "           0.12012,     0.12112,     0.12212,     0.12312,     0.12412,     0.12513,     0.12613,     0.12713,     0.12813,     0.12913,     0.13013,     0.13113,     0.13213,     0.13313,     0.13413,     0.13514,     0.13614,     0.13714,     0.13814,     0.13914,     0.14014,     0.14114,     0.14214,     0.14314,\n",
       "           0.14414,     0.14515,     0.14615,     0.14715,     0.14815,     0.14915,     0.15015,     0.15115,     0.15215,     0.15315,     0.15415,     0.15516,     0.15616,     0.15716,     0.15816,     0.15916,     0.16016,     0.16116,     0.16216,     0.16316,     0.16416,     0.16517,     0.16617,     0.16717,\n",
       "           0.16817,     0.16917,     0.17017,     0.17117,     0.17217,     0.17317,     0.17417,     0.17518,     0.17618,     0.17718,     0.17818,     0.17918,     0.18018,     0.18118,     0.18218,     0.18318,     0.18418,     0.18519,     0.18619,     0.18719,     0.18819,     0.18919,     0.19019,     0.19119,\n",
       "           0.19219,     0.19319,     0.19419,      0.1952,      0.1962,      0.1972,      0.1982,      0.1992,      0.2002,      0.2012,      0.2022,      0.2032,      0.2042,     0.20521,     0.20621,     0.20721,     0.20821,     0.20921,     0.21021,     0.21121,     0.21221,     0.21321,     0.21421,     0.21522,\n",
       "           0.21622,     0.21722,     0.21822,     0.21922,     0.22022,     0.22122,     0.22222,     0.22322,     0.22422,     0.22523,     0.22623,     0.22723,     0.22823,     0.22923,     0.23023,     0.23123,     0.23223,     0.23323,     0.23423,     0.23524,     0.23624,     0.23724,     0.23824,     0.23924,\n",
       "           0.24024,     0.24124,     0.24224,     0.24324,     0.24424,     0.24525,     0.24625,     0.24725,     0.24825,     0.24925,     0.25025,     0.25125,     0.25225,     0.25325,     0.25425,     0.25526,     0.25626,     0.25726,     0.25826,     0.25926,     0.26026,     0.26126,     0.26226,     0.26326,\n",
       "           0.26426,     0.26527,     0.26627,     0.26727,     0.26827,     0.26927,     0.27027,     0.27127,     0.27227,     0.27327,     0.27427,     0.27528,     0.27628,     0.27728,     0.27828,     0.27928,     0.28028,     0.28128,     0.28228,     0.28328,     0.28428,     0.28529,     0.28629,     0.28729,\n",
       "           0.28829,     0.28929,     0.29029,     0.29129,     0.29229,     0.29329,     0.29429,      0.2953,      0.2963,      0.2973,      0.2983,      0.2993,      0.3003,      0.3013,      0.3023,      0.3033,      0.3043,     0.30531,     0.30631,     0.30731,     0.30831,     0.30931,     0.31031,     0.31131,\n",
       "           0.31231,     0.31331,     0.31431,     0.31532,     0.31632,     0.31732,     0.31832,     0.31932,     0.32032,     0.32132,     0.32232,     0.32332,     0.32432,     0.32533,     0.32633,     0.32733,     0.32833,     0.32933,     0.33033,     0.33133,     0.33233,     0.33333,     0.33433,     0.33534,\n",
       "           0.33634,     0.33734,     0.33834,     0.33934,     0.34034,     0.34134,     0.34234,     0.34334,     0.34434,     0.34535,     0.34635,     0.34735,     0.34835,     0.34935,     0.35035,     0.35135,     0.35235,     0.35335,     0.35435,     0.35536,     0.35636,     0.35736,     0.35836,     0.35936,\n",
       "           0.36036,     0.36136,     0.36236,     0.36336,     0.36436,     0.36537,     0.36637,     0.36737,     0.36837,     0.36937,     0.37037,     0.37137,     0.37237,     0.37337,     0.37437,     0.37538,     0.37638,     0.37738,     0.37838,     0.37938,     0.38038,     0.38138,     0.38238,     0.38338,\n",
       "           0.38438,     0.38539,     0.38639,     0.38739,     0.38839,     0.38939,     0.39039,     0.39139,     0.39239,     0.39339,     0.39439,      0.3954,      0.3964,      0.3974,      0.3984,      0.3994,      0.4004,      0.4014,      0.4024,      0.4034,      0.4044,     0.40541,     0.40641,     0.40741,\n",
       "           0.40841,     0.40941,     0.41041,     0.41141,     0.41241,     0.41341,     0.41441,     0.41542,     0.41642,     0.41742,     0.41842,     0.41942,     0.42042,     0.42142,     0.42242,     0.42342,     0.42442,     0.42543,     0.42643,     0.42743,     0.42843,     0.42943,     0.43043,     0.43143,\n",
       "           0.43243,     0.43343,     0.43443,     0.43544,     0.43644,     0.43744,     0.43844,     0.43944,     0.44044,     0.44144,     0.44244,     0.44344,     0.44444,     0.44545,     0.44645,     0.44745,     0.44845,     0.44945,     0.45045,     0.45145,     0.45245,     0.45345,     0.45445,     0.45546,\n",
       "           0.45646,     0.45746,     0.45846,     0.45946,     0.46046,     0.46146,     0.46246,     0.46346,     0.46446,     0.46547,     0.46647,     0.46747,     0.46847,     0.46947,     0.47047,     0.47147,     0.47247,     0.47347,     0.47447,     0.47548,     0.47648,     0.47748,     0.47848,     0.47948,\n",
       "           0.48048,     0.48148,     0.48248,     0.48348,     0.48448,     0.48549,     0.48649,     0.48749,     0.48849,     0.48949,     0.49049,     0.49149,     0.49249,     0.49349,     0.49449,      0.4955,      0.4965,      0.4975,      0.4985,      0.4995,      0.5005,      0.5015,      0.5025,      0.5035,\n",
       "            0.5045,     0.50551,     0.50651,     0.50751,     0.50851,     0.50951,     0.51051,     0.51151,     0.51251,     0.51351,     0.51451,     0.51552,     0.51652,     0.51752,     0.51852,     0.51952,     0.52052,     0.52152,     0.52252,     0.52352,     0.52452,     0.52553,     0.52653,     0.52753,\n",
       "           0.52853,     0.52953,     0.53053,     0.53153,     0.53253,     0.53353,     0.53453,     0.53554,     0.53654,     0.53754,     0.53854,     0.53954,     0.54054,     0.54154,     0.54254,     0.54354,     0.54454,     0.54555,     0.54655,     0.54755,     0.54855,     0.54955,     0.55055,     0.55155,\n",
       "           0.55255,     0.55355,     0.55455,     0.55556,     0.55656,     0.55756,     0.55856,     0.55956,     0.56056,     0.56156,     0.56256,     0.56356,     0.56456,     0.56557,     0.56657,     0.56757,     0.56857,     0.56957,     0.57057,     0.57157,     0.57257,     0.57357,     0.57457,     0.57558,\n",
       "           0.57658,     0.57758,     0.57858,     0.57958,     0.58058,     0.58158,     0.58258,     0.58358,     0.58458,     0.58559,     0.58659,     0.58759,     0.58859,     0.58959,     0.59059,     0.59159,     0.59259,     0.59359,     0.59459,      0.5956,      0.5966,      0.5976,      0.5986,      0.5996,\n",
       "            0.6006,      0.6016,      0.6026,      0.6036,      0.6046,     0.60561,     0.60661,     0.60761,     0.60861,     0.60961,     0.61061,     0.61161,     0.61261,     0.61361,     0.61461,     0.61562,     0.61662,     0.61762,     0.61862,     0.61962,     0.62062,     0.62162,     0.62262,     0.62362,\n",
       "           0.62462,     0.62563,     0.62663,     0.62763,     0.62863,     0.62963,     0.63063,     0.63163,     0.63263,     0.63363,     0.63463,     0.63564,     0.63664,     0.63764,     0.63864,     0.63964,     0.64064,     0.64164,     0.64264,     0.64364,     0.64464,     0.64565,     0.64665,     0.64765,\n",
       "           0.64865,     0.64965,     0.65065,     0.65165,     0.65265,     0.65365,     0.65465,     0.65566,     0.65666,     0.65766,     0.65866,     0.65966,     0.66066,     0.66166,     0.66266,     0.66366,     0.66466,     0.66567,     0.66667,     0.66767,     0.66867,     0.66967,     0.67067,     0.67167,\n",
       "           0.67267,     0.67367,     0.67467,     0.67568,     0.67668,     0.67768,     0.67868,     0.67968,     0.68068,     0.68168,     0.68268,     0.68368,     0.68468,     0.68569,     0.68669,     0.68769,     0.68869,     0.68969,     0.69069,     0.69169,     0.69269,     0.69369,     0.69469,      0.6957,\n",
       "            0.6967,      0.6977,      0.6987,      0.6997,      0.7007,      0.7017,      0.7027,      0.7037,      0.7047,     0.70571,     0.70671,     0.70771,     0.70871,     0.70971,     0.71071,     0.71171,     0.71271,     0.71371,     0.71471,     0.71572,     0.71672,     0.71772,     0.71872,     0.71972,\n",
       "           0.72072,     0.72172,     0.72272,     0.72372,     0.72472,     0.72573,     0.72673,     0.72773,     0.72873,     0.72973,     0.73073,     0.73173,     0.73273,     0.73373,     0.73473,     0.73574,     0.73674,     0.73774,     0.73874,     0.73974,     0.74074,     0.74174,     0.74274,     0.74374,\n",
       "           0.74474,     0.74575,     0.74675,     0.74775,     0.74875,     0.74975,     0.75075,     0.75175,     0.75275,     0.75375,     0.75475,     0.75576,     0.75676,     0.75776,     0.75876,     0.75976,     0.76076,     0.76176,     0.76276,     0.76376,     0.76476,     0.76577,     0.76677,     0.76777,\n",
       "           0.76877,     0.76977,     0.77077,     0.77177,     0.77277,     0.77377,     0.77477,     0.77578,     0.77678,     0.77778,     0.77878,     0.77978,     0.78078,     0.78178,     0.78278,     0.78378,     0.78478,     0.78579,     0.78679,     0.78779,     0.78879,     0.78979,     0.79079,     0.79179,\n",
       "           0.79279,     0.79379,     0.79479,      0.7958,      0.7968,      0.7978,      0.7988,      0.7998,      0.8008,      0.8018,      0.8028,      0.8038,      0.8048,     0.80581,     0.80681,     0.80781,     0.80881,     0.80981,     0.81081,     0.81181,     0.81281,     0.81381,     0.81481,     0.81582,\n",
       "           0.81682,     0.81782,     0.81882,     0.81982,     0.82082,     0.82182,     0.82282,     0.82382,     0.82482,     0.82583,     0.82683,     0.82783,     0.82883,     0.82983,     0.83083,     0.83183,     0.83283,     0.83383,     0.83483,     0.83584,     0.83684,     0.83784,     0.83884,     0.83984,\n",
       "           0.84084,     0.84184,     0.84284,     0.84384,     0.84484,     0.84585,     0.84685,     0.84785,     0.84885,     0.84985,     0.85085,     0.85185,     0.85285,     0.85385,     0.85485,     0.85586,     0.85686,     0.85786,     0.85886,     0.85986,     0.86086,     0.86186,     0.86286,     0.86386,\n",
       "           0.86486,     0.86587,     0.86687,     0.86787,     0.86887,     0.86987,     0.87087,     0.87187,     0.87287,     0.87387,     0.87487,     0.87588,     0.87688,     0.87788,     0.87888,     0.87988,     0.88088,     0.88188,     0.88288,     0.88388,     0.88488,     0.88589,     0.88689,     0.88789,\n",
       "           0.88889,     0.88989,     0.89089,     0.89189,     0.89289,     0.89389,     0.89489,      0.8959,      0.8969,      0.8979,      0.8989,      0.8999,      0.9009,      0.9019,      0.9029,      0.9039,      0.9049,     0.90591,     0.90691,     0.90791,     0.90891,     0.90991,     0.91091,     0.91191,\n",
       "           0.91291,     0.91391,     0.91491,     0.91592,     0.91692,     0.91792,     0.91892,     0.91992,     0.92092,     0.92192,     0.92292,     0.92392,     0.92492,     0.92593,     0.92693,     0.92793,     0.92893,     0.92993,     0.93093,     0.93193,     0.93293,     0.93393,     0.93493,     0.93594,\n",
       "           0.93694,     0.93794,     0.93894,     0.93994,     0.94094,     0.94194,     0.94294,     0.94394,     0.94494,     0.94595,     0.94695,     0.94795,     0.94895,     0.94995,     0.95095,     0.95195,     0.95295,     0.95395,     0.95495,     0.95596,     0.95696,     0.95796,     0.95896,     0.95996,\n",
       "           0.96096,     0.96196,     0.96296,     0.96396,     0.96496,     0.96597,     0.96697,     0.96797,     0.96897,     0.96997,     0.97097,     0.97197,     0.97297,     0.97397,     0.97497,     0.97598,     0.97698,     0.97798,     0.97898,     0.97998,     0.98098,     0.98198,     0.98298,     0.98398,\n",
       "           0.98498,     0.98599,     0.98699,     0.98799,     0.98899,     0.98999,     0.99099,     0.99199,     0.99299,     0.99399,     0.99499,       0.996,       0.997,       0.998,       0.999,           1]), array([[   0.082931,    0.082982,     0.11932,     0.14352,     0.17034,     0.18821,     0.20249,       0.217,     0.22927,     0.24754,     0.25703,     0.26502,      0.2732,     0.27987,     0.28973,     0.29716,     0.30093,     0.31075,     0.31515,     0.31996,     0.32464,     0.33123,     0.33567,\n",
       "            0.34037,     0.34456,     0.34902,     0.35431,     0.35654,      0.3579,     0.36426,     0.37087,      0.3747,     0.37791,     0.38033,     0.38118,     0.38391,     0.38674,      0.3899,     0.39263,     0.39546,     0.40081,     0.40253,     0.40449,     0.40631,     0.41008,     0.41395,\n",
       "            0.41657,     0.41863,     0.41928,     0.42095,     0.42262,      0.4254,     0.42786,      0.4297,     0.43667,     0.44096,     0.44168,     0.44661,     0.44739,     0.44982,     0.44875,      0.4509,     0.45158,     0.45273,     0.45557,     0.45897,     0.46108,     0.46185,     0.46506,\n",
       "            0.46452,     0.46511,     0.46948,      0.4701,     0.47071,     0.47193,     0.47354,     0.47397,      0.4744,      0.4753,     0.47656,     0.47731,     0.47843,     0.48037,     0.48275,     0.48447,     0.48709,     0.48856,     0.48902,     0.49208,     0.49368,     0.49869,     0.49962,\n",
       "            0.50075,     0.50199,     0.50399,     0.50812,     0.51247,     0.51311,     0.51374,     0.51488,     0.51611,     0.51751,     0.51773,     0.51827,     0.52219,     0.52386,     0.52441,     0.52495,     0.52552,     0.52716,     0.52879,     0.52944,     0.53005,     0.53075,     0.53185,\n",
       "            0.53097,     0.53324,     0.53465,     0.53704,     0.53871,     0.53963,     0.54102,     0.54385,     0.54525,     0.54609,     0.54692,     0.54818,     0.54941,     0.55057,     0.55234,     0.55189,     0.55145,     0.55115,     0.55334,     0.55403,     0.55473,     0.55871,     0.55979,\n",
       "            0.56292,     0.56232,     0.56172,     0.56327,      0.5639,     0.56442,     0.56495,     0.56457,     0.56442,     0.56516,     0.56593,     0.56709,     0.56769,      0.5672,     0.56672,     0.56686,     0.56723,      0.5682,     0.56993,     0.57132,     0.57232,     0.57369,     0.57528,\n",
       "             0.5758,     0.57632,     0.57684,     0.57731,     0.57765,       0.578,     0.57834,     0.57869,     0.57903,     0.58095,     0.58224,     0.58303,     0.58596,     0.58781,     0.58729,     0.58676,     0.58733,     0.58792,     0.58795,     0.58918,     0.59111,     0.59259,     0.59405,\n",
       "            0.59532,      0.5948,     0.59536,     0.59593,     0.59649,     0.59739,     0.59915,     0.59622,     0.59647,     0.59672,     0.59697,     0.59723,     0.59748,     0.59773,     0.59798,     0.59823,     0.59824,     0.59747,     0.59859,     0.60498,     0.60655,     0.60693,      0.6073,\n",
       "            0.60768,     0.60805,     0.60843,     0.60881,     0.61142,     0.61376,     0.61353,      0.6133,     0.61307,     0.61284,     0.61261,     0.61238,     0.61428,     0.61564,     0.61661,     0.61973,     0.62138,     0.62261,     0.62319,     0.62377,     0.62435,     0.62493,     0.62589,\n",
       "             0.6269,     0.63059,     0.63186,     0.63304,     0.63379,     0.63455,      0.6353,      0.6353,     0.63483,     0.63435,     0.63331,     0.63261,     0.63283,     0.63305,     0.63326,     0.63348,      0.6337,     0.63392,     0.63413,     0.63435,     0.63457,     0.63479,       0.635,\n",
       "            0.63555,     0.63814,     0.63939,     0.64065,     0.64377,     0.64426,     0.64475,     0.64523,     0.64572,      0.6462,     0.64686,     0.64755,     0.64824,     0.64893,     0.65058,     0.65156,     0.64843,     0.64814,     0.64961,     0.65152,     0.65346,     0.65458,     0.65571,\n",
       "            0.65868,     0.65973,     0.66045,     0.66117,     0.66188,     0.66228,     0.66254,     0.66281,     0.66307,     0.66333,     0.66359,     0.66385,     0.66411,     0.66437,     0.66464,      0.6649,     0.66522,     0.66629,     0.66736,     0.66832,     0.66889,     0.66946,     0.67003,\n",
       "             0.6706,     0.67117,     0.67194,     0.67275,     0.67357,     0.67439,     0.67302,     0.67387,     0.67472,     0.67557,     0.67703,     0.67924,     0.67912,     0.67901,     0.67889,     0.67878,     0.67866,     0.67854,     0.67843,     0.67831,     0.67819,     0.67808,     0.67796,\n",
       "            0.67784,     0.67773,     0.67747,     0.67721,     0.67694,     0.67668,     0.67642,     0.67724,     0.68087,     0.68267,     0.68228,     0.68189,     0.68149,     0.68149,     0.68371,     0.68441,     0.68433,     0.68425,     0.68416,     0.68408,       0.684,     0.68391,     0.68383,\n",
       "            0.68375,     0.68366,     0.68358,      0.6835,     0.68342,     0.68333,     0.68325,     0.68317,     0.68308,       0.683,     0.68297,      0.6834,     0.68383,     0.68425,     0.68468,     0.68511,     0.68554,     0.68596,      0.6874,      0.6884,     0.68992,     0.69143,     0.69087,\n",
       "            0.69031,     0.69096,     0.69309,     0.69259,     0.69401,     0.69543,     0.69402,     0.69452,     0.69502,     0.69553,     0.69603,     0.69654,     0.69704,     0.70086,     0.69957,     0.69988,      0.7003,     0.70072,     0.70115,     0.70157,     0.70199,     0.70242,     0.70284,\n",
       "            0.70293,     0.70234,     0.70175,     0.70479,      0.7041,     0.70437,      0.7059,     0.70743,     0.71183,     0.71407,     0.71372,     0.71672,     0.72231,      0.7236,      0.7249,     0.72485,     0.72425,     0.72357,     0.72253,      0.7265,     0.72702,     0.72754,     0.72806,\n",
       "            0.72858,      0.7291,     0.72962,     0.73013,     0.73101,     0.73212,     0.73323,     0.73434,     0.73435,     0.73422,     0.73408,     0.73395,     0.73382,     0.73369,     0.73356,     0.73343,      0.7333,     0.73317,     0.73303,      0.7328,     0.73242,     0.73203,     0.73165,\n",
       "            0.72987,     0.72974,      0.7296,     0.72947,     0.72934,      0.7292,     0.72907,     0.72894,      0.7288,     0.72867,     0.72854,      0.7284,      0.7281,     0.72758,     0.72706,     0.72838,     0.73177,     0.73395,      0.7366,     0.73959,      0.7391,     0.73862,     0.73813,\n",
       "            0.73648,     0.73632,     0.73616,       0.736,     0.73584,     0.73569,     0.73553,     0.73537,     0.73521,     0.73506,     0.73486,     0.73457,     0.73428,     0.73398,     0.73369,      0.7334,     0.73242,     0.73203,     0.73287,     0.73372,     0.73456,     0.73541,     0.73708,\n",
       "             0.7426,     0.74519,     0.74679,     0.74833,     0.74987,     0.74838,     0.74784,      0.7473,     0.74823,     0.75138,     0.75103,     0.75069,     0.75034,     0.75002,     0.75156,     0.75309,     0.75463,     0.75452,     0.75416,      0.7538,     0.75343,     0.75384,     0.75505,\n",
       "            0.75625,     0.75746,     0.75807,     0.75782,     0.75757,     0.75732,     0.75707,     0.75683,     0.75659,     0.75741,     0.75824,     0.75906,     0.75989,     0.76072,     0.76154,      0.7621,     0.76263,     0.76317,     0.76371,     0.76425,     0.76478,     0.76532,     0.76586,\n",
       "            0.76639,     0.76521,     0.76483,     0.76454,     0.76425,     0.76397,     0.76368,     0.76373,     0.76426,     0.76479,     0.76532,     0.76585,     0.76638,     0.76691,     0.76744,     0.76797,      0.7685,     0.76924,     0.77011,     0.77098,     0.77185,     0.77272,     0.77359,\n",
       "            0.77364,     0.77305,     0.77246,     0.77289,      0.7734,     0.77391,     0.77442,     0.77493,     0.77545,     0.77596,     0.77647,     0.77698,     0.77749,     0.77722,      0.7762,     0.77606,     0.77593,      0.7758,     0.77567,     0.77553,      0.7754,     0.77527,     0.77514,\n",
       "              0.775,     0.77487,     0.77474,     0.77593,     0.77992,     0.78262,     0.78524,     0.78528,     0.78476,     0.78423,     0.78777,      0.7949,     0.79986,     0.79953,      0.7992,     0.79888,     0.79855,      0.7973,     0.79801,     0.79871,     0.79942,     0.80012,     0.80083,\n",
       "            0.80153,     0.80224,     0.80294,      0.8041,     0.80533,     0.80655,     0.80778,       0.809,     0.80885,      0.8085,     0.80815,      0.8078,     0.80807,     0.81124,     0.81085,     0.81047,      0.8101,     0.80972,     0.80864,     0.80936,     0.81226,     0.81116,     0.80969,\n",
       "            0.80936,     0.80902,     0.80868,     0.80834,     0.80794,     0.80753,     0.80712,     0.80678,      0.8099,     0.81302,     0.81413,     0.81482,     0.81551,      0.8162,     0.81689,     0.81758,     0.81827,     0.81896,     0.81965,     0.82034,     0.82466,     0.82745,     0.82715,\n",
       "            0.82686,     0.82657,     0.82627,     0.83034,     0.83286,     0.83223,     0.83165,     0.83112,     0.83059,     0.83015,     0.82978,     0.82941,     0.82904,     0.82769,     0.83671,     0.83894,     0.84118,      0.8419,     0.84082,     0.84029,     0.83977,     0.83851,     0.83723,\n",
       "            0.83859,     0.84342,     0.84438,       0.844,     0.84363,     0.84325,      0.8438,     0.84474,     0.84568,     0.84662,     0.84756,      0.8485,     0.84944,     0.85038,     0.85132,     0.85128,     0.85103,     0.85078,     0.85052,     0.85027,     0.85002,     0.84813,     0.84725,\n",
       "            0.85436,     0.85511,     0.85447,     0.85391,     0.85343,     0.85294,     0.85193,     0.85183,     0.85321,     0.85459,     0.85597,     0.85736,     0.85874,     0.86012,     0.85948,     0.86145,     0.86342,     0.86538,     0.86735,     0.86773,     0.86706,     0.86642,     0.86581,\n",
       "            0.86521,     0.86418,     0.86202,     0.86142,     0.86081,     0.86037,     0.86014,     0.85992,     0.85969,     0.85947,     0.85924,     0.85901,     0.85876,     0.85837,     0.85798,     0.85758,     0.85719,     0.85466,     0.85378,       0.853,     0.85222,     0.84979,     0.85494,\n",
       "            0.85754,     0.86423,     0.86598,     0.86521,     0.86476,     0.86458,      0.8644,     0.86421,     0.86403,     0.86385,     0.86366,     0.86348,      0.8633,     0.86311,     0.86945,     0.87474,      0.8743,     0.87387,     0.87343,     0.87234,     0.87101,     0.87006,     0.86781,\n",
       "            0.86722,     0.86678,     0.86633,     0.86589,     0.87865,     0.87732,     0.88148,     0.88798,     0.88878,     0.88807,     0.88736,     0.88514,     0.88383,     0.88324,      0.8831,     0.88295,      0.8828,     0.88266,     0.88251,     0.88236,     0.88222,     0.88207,     0.88192,\n",
       "            0.88177,     0.88163,     0.88148,     0.88125,     0.88055,     0.87985,     0.88022,     0.89276,     0.89231,     0.89187,     0.89143,     0.89099,     0.90008,     0.90691,     0.90554,      0.9046,     0.90591,      0.9167,     0.92338,     0.92668,     0.92998,     0.93329,     0.93659,\n",
       "            0.93989,     0.93963,     0.93926,     0.93888,     0.93726,     0.93668,     0.93728,     0.94652,     0.95576,     0.95604,     0.95553,     0.95509,     0.95466,     0.95416,     0.95363,      0.9522,     0.95176,     0.95133,     0.95013,     0.94969,     0.94936,     0.94902,      0.9483,\n",
       "            0.94696,     0.94645,     0.94594,     0.94542,      0.9449,     0.94359,     0.94255,      0.9422,     0.94186,     0.94151,     0.94114,      0.9402,     0.93927,     0.93846,     0.93764,     0.93629,     0.93475,     0.93294,     0.93066,     0.92958,      0.9285,     0.92745,     0.92641,\n",
       "            0.93245,      0.9445,     0.95655,     0.96084,      0.9598,     0.95912,     0.95844,       0.958,     0.95761,     0.95721,     0.95682,     0.95637,     0.95574,     0.95511,     0.95432,     0.95236,     0.95147,     0.95058,     0.94981,     0.94929,     0.94876,     0.94824,     0.94771,\n",
       "            0.94707,     0.94623,     0.94539,     0.94455,     0.94146,     0.93916,      0.9353,      0.9295,     0.96238,           1,           1,           1,           1,           1,           1,           1,           1,           1,           1,           1,           1,           1,           1,\n",
       "                  1,           1,           1,           1,           1,           1,           1,           1,           1,           1,           1,           1,           1,           1,           1,           1,           1,           1,           1,           1,           1,           1,           1,\n",
       "                  1,           1,           1,           1,           1,           1,           1,           1,           1,           1,           1,           1,           1,           1,           1,           1,           1,           1,           1,           1,           1,           1,           1,\n",
       "                  1,           1,           1,           1,           1,           1,           1,           1,           1,           1,           1,           1,           1,           1,           1,           1,           1,           1,           1,           1,           1,           1,           1,\n",
       "                  1,           1,           1,           1,           1,           1,           1,           1,           1,           1,           1,           1,           1,           1,           1,           1,           1,           1,           1,           1,           1,           1,           1,\n",
       "                  1,           1,           1,           1,           1,           1,           1,           1,           1,           1,           1]]), 'Confidence', 'Precision'], [array([          0,    0.001001,    0.002002,    0.003003,    0.004004,    0.005005,    0.006006,    0.007007,    0.008008,    0.009009,     0.01001,    0.011011,    0.012012,    0.013013,    0.014014,    0.015015,    0.016016,    0.017017,    0.018018,    0.019019,     0.02002,    0.021021,    0.022022,    0.023023,\n",
       "          0.024024,    0.025025,    0.026026,    0.027027,    0.028028,    0.029029,     0.03003,    0.031031,    0.032032,    0.033033,    0.034034,    0.035035,    0.036036,    0.037037,    0.038038,    0.039039,     0.04004,    0.041041,    0.042042,    0.043043,    0.044044,    0.045045,    0.046046,    0.047047,\n",
       "          0.048048,    0.049049,     0.05005,    0.051051,    0.052052,    0.053053,    0.054054,    0.055055,    0.056056,    0.057057,    0.058058,    0.059059,     0.06006,    0.061061,    0.062062,    0.063063,    0.064064,    0.065065,    0.066066,    0.067067,    0.068068,    0.069069,     0.07007,    0.071071,\n",
       "          0.072072,    0.073073,    0.074074,    0.075075,    0.076076,    0.077077,    0.078078,    0.079079,     0.08008,    0.081081,    0.082082,    0.083083,    0.084084,    0.085085,    0.086086,    0.087087,    0.088088,    0.089089,     0.09009,    0.091091,    0.092092,    0.093093,    0.094094,    0.095095,\n",
       "          0.096096,    0.097097,    0.098098,    0.099099,      0.1001,      0.1011,      0.1021,      0.1031,      0.1041,     0.10511,     0.10611,     0.10711,     0.10811,     0.10911,     0.11011,     0.11111,     0.11211,     0.11311,     0.11411,     0.11512,     0.11612,     0.11712,     0.11812,     0.11912,\n",
       "           0.12012,     0.12112,     0.12212,     0.12312,     0.12412,     0.12513,     0.12613,     0.12713,     0.12813,     0.12913,     0.13013,     0.13113,     0.13213,     0.13313,     0.13413,     0.13514,     0.13614,     0.13714,     0.13814,     0.13914,     0.14014,     0.14114,     0.14214,     0.14314,\n",
       "           0.14414,     0.14515,     0.14615,     0.14715,     0.14815,     0.14915,     0.15015,     0.15115,     0.15215,     0.15315,     0.15415,     0.15516,     0.15616,     0.15716,     0.15816,     0.15916,     0.16016,     0.16116,     0.16216,     0.16316,     0.16416,     0.16517,     0.16617,     0.16717,\n",
       "           0.16817,     0.16917,     0.17017,     0.17117,     0.17217,     0.17317,     0.17417,     0.17518,     0.17618,     0.17718,     0.17818,     0.17918,     0.18018,     0.18118,     0.18218,     0.18318,     0.18418,     0.18519,     0.18619,     0.18719,     0.18819,     0.18919,     0.19019,     0.19119,\n",
       "           0.19219,     0.19319,     0.19419,      0.1952,      0.1962,      0.1972,      0.1982,      0.1992,      0.2002,      0.2012,      0.2022,      0.2032,      0.2042,     0.20521,     0.20621,     0.20721,     0.20821,     0.20921,     0.21021,     0.21121,     0.21221,     0.21321,     0.21421,     0.21522,\n",
       "           0.21622,     0.21722,     0.21822,     0.21922,     0.22022,     0.22122,     0.22222,     0.22322,     0.22422,     0.22523,     0.22623,     0.22723,     0.22823,     0.22923,     0.23023,     0.23123,     0.23223,     0.23323,     0.23423,     0.23524,     0.23624,     0.23724,     0.23824,     0.23924,\n",
       "           0.24024,     0.24124,     0.24224,     0.24324,     0.24424,     0.24525,     0.24625,     0.24725,     0.24825,     0.24925,     0.25025,     0.25125,     0.25225,     0.25325,     0.25425,     0.25526,     0.25626,     0.25726,     0.25826,     0.25926,     0.26026,     0.26126,     0.26226,     0.26326,\n",
       "           0.26426,     0.26527,     0.26627,     0.26727,     0.26827,     0.26927,     0.27027,     0.27127,     0.27227,     0.27327,     0.27427,     0.27528,     0.27628,     0.27728,     0.27828,     0.27928,     0.28028,     0.28128,     0.28228,     0.28328,     0.28428,     0.28529,     0.28629,     0.28729,\n",
       "           0.28829,     0.28929,     0.29029,     0.29129,     0.29229,     0.29329,     0.29429,      0.2953,      0.2963,      0.2973,      0.2983,      0.2993,      0.3003,      0.3013,      0.3023,      0.3033,      0.3043,     0.30531,     0.30631,     0.30731,     0.30831,     0.30931,     0.31031,     0.31131,\n",
       "           0.31231,     0.31331,     0.31431,     0.31532,     0.31632,     0.31732,     0.31832,     0.31932,     0.32032,     0.32132,     0.32232,     0.32332,     0.32432,     0.32533,     0.32633,     0.32733,     0.32833,     0.32933,     0.33033,     0.33133,     0.33233,     0.33333,     0.33433,     0.33534,\n",
       "           0.33634,     0.33734,     0.33834,     0.33934,     0.34034,     0.34134,     0.34234,     0.34334,     0.34434,     0.34535,     0.34635,     0.34735,     0.34835,     0.34935,     0.35035,     0.35135,     0.35235,     0.35335,     0.35435,     0.35536,     0.35636,     0.35736,     0.35836,     0.35936,\n",
       "           0.36036,     0.36136,     0.36236,     0.36336,     0.36436,     0.36537,     0.36637,     0.36737,     0.36837,     0.36937,     0.37037,     0.37137,     0.37237,     0.37337,     0.37437,     0.37538,     0.37638,     0.37738,     0.37838,     0.37938,     0.38038,     0.38138,     0.38238,     0.38338,\n",
       "           0.38438,     0.38539,     0.38639,     0.38739,     0.38839,     0.38939,     0.39039,     0.39139,     0.39239,     0.39339,     0.39439,      0.3954,      0.3964,      0.3974,      0.3984,      0.3994,      0.4004,      0.4014,      0.4024,      0.4034,      0.4044,     0.40541,     0.40641,     0.40741,\n",
       "           0.40841,     0.40941,     0.41041,     0.41141,     0.41241,     0.41341,     0.41441,     0.41542,     0.41642,     0.41742,     0.41842,     0.41942,     0.42042,     0.42142,     0.42242,     0.42342,     0.42442,     0.42543,     0.42643,     0.42743,     0.42843,     0.42943,     0.43043,     0.43143,\n",
       "           0.43243,     0.43343,     0.43443,     0.43544,     0.43644,     0.43744,     0.43844,     0.43944,     0.44044,     0.44144,     0.44244,     0.44344,     0.44444,     0.44545,     0.44645,     0.44745,     0.44845,     0.44945,     0.45045,     0.45145,     0.45245,     0.45345,     0.45445,     0.45546,\n",
       "           0.45646,     0.45746,     0.45846,     0.45946,     0.46046,     0.46146,     0.46246,     0.46346,     0.46446,     0.46547,     0.46647,     0.46747,     0.46847,     0.46947,     0.47047,     0.47147,     0.47247,     0.47347,     0.47447,     0.47548,     0.47648,     0.47748,     0.47848,     0.47948,\n",
       "           0.48048,     0.48148,     0.48248,     0.48348,     0.48448,     0.48549,     0.48649,     0.48749,     0.48849,     0.48949,     0.49049,     0.49149,     0.49249,     0.49349,     0.49449,      0.4955,      0.4965,      0.4975,      0.4985,      0.4995,      0.5005,      0.5015,      0.5025,      0.5035,\n",
       "            0.5045,     0.50551,     0.50651,     0.50751,     0.50851,     0.50951,     0.51051,     0.51151,     0.51251,     0.51351,     0.51451,     0.51552,     0.51652,     0.51752,     0.51852,     0.51952,     0.52052,     0.52152,     0.52252,     0.52352,     0.52452,     0.52553,     0.52653,     0.52753,\n",
       "           0.52853,     0.52953,     0.53053,     0.53153,     0.53253,     0.53353,     0.53453,     0.53554,     0.53654,     0.53754,     0.53854,     0.53954,     0.54054,     0.54154,     0.54254,     0.54354,     0.54454,     0.54555,     0.54655,     0.54755,     0.54855,     0.54955,     0.55055,     0.55155,\n",
       "           0.55255,     0.55355,     0.55455,     0.55556,     0.55656,     0.55756,     0.55856,     0.55956,     0.56056,     0.56156,     0.56256,     0.56356,     0.56456,     0.56557,     0.56657,     0.56757,     0.56857,     0.56957,     0.57057,     0.57157,     0.57257,     0.57357,     0.57457,     0.57558,\n",
       "           0.57658,     0.57758,     0.57858,     0.57958,     0.58058,     0.58158,     0.58258,     0.58358,     0.58458,     0.58559,     0.58659,     0.58759,     0.58859,     0.58959,     0.59059,     0.59159,     0.59259,     0.59359,     0.59459,      0.5956,      0.5966,      0.5976,      0.5986,      0.5996,\n",
       "            0.6006,      0.6016,      0.6026,      0.6036,      0.6046,     0.60561,     0.60661,     0.60761,     0.60861,     0.60961,     0.61061,     0.61161,     0.61261,     0.61361,     0.61461,     0.61562,     0.61662,     0.61762,     0.61862,     0.61962,     0.62062,     0.62162,     0.62262,     0.62362,\n",
       "           0.62462,     0.62563,     0.62663,     0.62763,     0.62863,     0.62963,     0.63063,     0.63163,     0.63263,     0.63363,     0.63463,     0.63564,     0.63664,     0.63764,     0.63864,     0.63964,     0.64064,     0.64164,     0.64264,     0.64364,     0.64464,     0.64565,     0.64665,     0.64765,\n",
       "           0.64865,     0.64965,     0.65065,     0.65165,     0.65265,     0.65365,     0.65465,     0.65566,     0.65666,     0.65766,     0.65866,     0.65966,     0.66066,     0.66166,     0.66266,     0.66366,     0.66466,     0.66567,     0.66667,     0.66767,     0.66867,     0.66967,     0.67067,     0.67167,\n",
       "           0.67267,     0.67367,     0.67467,     0.67568,     0.67668,     0.67768,     0.67868,     0.67968,     0.68068,     0.68168,     0.68268,     0.68368,     0.68468,     0.68569,     0.68669,     0.68769,     0.68869,     0.68969,     0.69069,     0.69169,     0.69269,     0.69369,     0.69469,      0.6957,\n",
       "            0.6967,      0.6977,      0.6987,      0.6997,      0.7007,      0.7017,      0.7027,      0.7037,      0.7047,     0.70571,     0.70671,     0.70771,     0.70871,     0.70971,     0.71071,     0.71171,     0.71271,     0.71371,     0.71471,     0.71572,     0.71672,     0.71772,     0.71872,     0.71972,\n",
       "           0.72072,     0.72172,     0.72272,     0.72372,     0.72472,     0.72573,     0.72673,     0.72773,     0.72873,     0.72973,     0.73073,     0.73173,     0.73273,     0.73373,     0.73473,     0.73574,     0.73674,     0.73774,     0.73874,     0.73974,     0.74074,     0.74174,     0.74274,     0.74374,\n",
       "           0.74474,     0.74575,     0.74675,     0.74775,     0.74875,     0.74975,     0.75075,     0.75175,     0.75275,     0.75375,     0.75475,     0.75576,     0.75676,     0.75776,     0.75876,     0.75976,     0.76076,     0.76176,     0.76276,     0.76376,     0.76476,     0.76577,     0.76677,     0.76777,\n",
       "           0.76877,     0.76977,     0.77077,     0.77177,     0.77277,     0.77377,     0.77477,     0.77578,     0.77678,     0.77778,     0.77878,     0.77978,     0.78078,     0.78178,     0.78278,     0.78378,     0.78478,     0.78579,     0.78679,     0.78779,     0.78879,     0.78979,     0.79079,     0.79179,\n",
       "           0.79279,     0.79379,     0.79479,      0.7958,      0.7968,      0.7978,      0.7988,      0.7998,      0.8008,      0.8018,      0.8028,      0.8038,      0.8048,     0.80581,     0.80681,     0.80781,     0.80881,     0.80981,     0.81081,     0.81181,     0.81281,     0.81381,     0.81481,     0.81582,\n",
       "           0.81682,     0.81782,     0.81882,     0.81982,     0.82082,     0.82182,     0.82282,     0.82382,     0.82482,     0.82583,     0.82683,     0.82783,     0.82883,     0.82983,     0.83083,     0.83183,     0.83283,     0.83383,     0.83483,     0.83584,     0.83684,     0.83784,     0.83884,     0.83984,\n",
       "           0.84084,     0.84184,     0.84284,     0.84384,     0.84484,     0.84585,     0.84685,     0.84785,     0.84885,     0.84985,     0.85085,     0.85185,     0.85285,     0.85385,     0.85485,     0.85586,     0.85686,     0.85786,     0.85886,     0.85986,     0.86086,     0.86186,     0.86286,     0.86386,\n",
       "           0.86486,     0.86587,     0.86687,     0.86787,     0.86887,     0.86987,     0.87087,     0.87187,     0.87287,     0.87387,     0.87487,     0.87588,     0.87688,     0.87788,     0.87888,     0.87988,     0.88088,     0.88188,     0.88288,     0.88388,     0.88488,     0.88589,     0.88689,     0.88789,\n",
       "           0.88889,     0.88989,     0.89089,     0.89189,     0.89289,     0.89389,     0.89489,      0.8959,      0.8969,      0.8979,      0.8989,      0.8999,      0.9009,      0.9019,      0.9029,      0.9039,      0.9049,     0.90591,     0.90691,     0.90791,     0.90891,     0.90991,     0.91091,     0.91191,\n",
       "           0.91291,     0.91391,     0.91491,     0.91592,     0.91692,     0.91792,     0.91892,     0.91992,     0.92092,     0.92192,     0.92292,     0.92392,     0.92492,     0.92593,     0.92693,     0.92793,     0.92893,     0.92993,     0.93093,     0.93193,     0.93293,     0.93393,     0.93493,     0.93594,\n",
       "           0.93694,     0.93794,     0.93894,     0.93994,     0.94094,     0.94194,     0.94294,     0.94394,     0.94494,     0.94595,     0.94695,     0.94795,     0.94895,     0.94995,     0.95095,     0.95195,     0.95295,     0.95395,     0.95495,     0.95596,     0.95696,     0.95796,     0.95896,     0.95996,\n",
       "           0.96096,     0.96196,     0.96296,     0.96396,     0.96496,     0.96597,     0.96697,     0.96797,     0.96897,     0.96997,     0.97097,     0.97197,     0.97297,     0.97397,     0.97497,     0.97598,     0.97698,     0.97798,     0.97898,     0.97998,     0.98098,     0.98198,     0.98298,     0.98398,\n",
       "           0.98498,     0.98599,     0.98699,     0.98799,     0.98899,     0.98999,     0.99099,     0.99199,     0.99299,     0.99399,     0.99499,       0.996,       0.997,       0.998,       0.999,           1]), array([[     0.9403,      0.9403,     0.92537,     0.92537,     0.92537,     0.92537,     0.91542,      0.9005,     0.89055,     0.89055,     0.88557,     0.88557,     0.88557,      0.8806,     0.87671,     0.87562,     0.87562,     0.87562,     0.87562,     0.87562,     0.87562,     0.87562,     0.87562,\n",
       "            0.87562,     0.87562,     0.87562,     0.87065,     0.86836,     0.86567,     0.86567,     0.86567,     0.86567,     0.86567,     0.86567,      0.8607,      0.8607,      0.8607,      0.8607,      0.8607,      0.8607,      0.8607,      0.8607,      0.8607,      0.8607,      0.8607,      0.8607,\n",
       "            0.85572,     0.85572,     0.85572,     0.85572,     0.85572,     0.85572,     0.85572,     0.85572,     0.85572,     0.85572,     0.85075,     0.85075,     0.85075,     0.85075,     0.84646,     0.84577,     0.84577,     0.84577,     0.84577,     0.84577,     0.84577,     0.84577,     0.84577,\n",
       "             0.8408,      0.8408,      0.8408,      0.8408,      0.8408,      0.8408,      0.8408,      0.8408,      0.8408,      0.8408,      0.8408,      0.8408,     0.83582,     0.83582,     0.83582,     0.83582,     0.83582,     0.83582,     0.83085,     0.83085,     0.83085,     0.83085,     0.83085,\n",
       "            0.83085,     0.83085,     0.83085,     0.82587,     0.82587,     0.82587,     0.82587,     0.82587,     0.82587,     0.82587,     0.82249,      0.8209,      0.8209,      0.8209,      0.8209,      0.8209,      0.8209,      0.8209,      0.8209,      0.8209,      0.8209,      0.8209,      0.8209,\n",
       "            0.81592,     0.81592,     0.81095,     0.81095,     0.81095,     0.81095,     0.81095,     0.81095,     0.81095,     0.81095,     0.81095,     0.81095,     0.81095,     0.81095,     0.81027,     0.80882,     0.80738,     0.80597,     0.80597,     0.80597,     0.80597,     0.80597,     0.80347,\n",
       "            0.80094,       0.799,     0.79706,     0.79602,     0.79602,     0.79602,     0.79602,     0.79342,     0.79104,     0.79104,     0.79104,     0.79104,     0.79051,     0.78894,     0.78738,     0.78607,     0.78252,     0.78109,     0.78109,     0.78109,     0.78109,     0.78109,     0.78109,\n",
       "            0.78109,     0.78109,     0.78109,     0.78109,     0.78109,     0.78109,     0.78109,     0.78109,     0.78109,     0.78109,     0.78109,     0.78109,     0.78109,     0.78045,     0.77876,     0.77706,     0.77612,     0.77368,     0.77114,     0.77114,     0.77114,     0.77114,     0.77114,\n",
       "             0.7685,     0.76617,     0.76617,     0.76617,     0.76617,     0.76617,     0.76617,     0.75622,     0.75622,     0.75622,     0.75622,     0.75622,     0.75622,     0.75622,     0.75622,     0.75622,     0.75565,     0.75322,     0.75124,     0.75124,     0.75124,     0.75124,     0.75124,\n",
       "            0.75124,     0.75124,     0.75124,     0.75124,     0.75124,     0.75104,     0.75031,     0.74959,     0.74887,     0.74814,     0.74742,      0.7467,     0.74627,     0.74627,     0.74627,     0.74627,     0.74627,     0.74627,     0.74627,     0.74627,     0.74627,     0.74627,     0.74627,\n",
       "            0.74627,     0.74627,     0.74627,     0.74627,     0.74627,     0.74627,     0.74627,     0.74534,     0.74382,     0.74229,     0.73896,     0.73632,     0.73632,     0.73632,     0.73632,     0.73632,     0.73632,     0.73632,     0.73632,     0.73632,     0.73632,     0.73632,     0.73632,\n",
       "            0.73632,     0.73632,     0.73632,     0.73632,     0.73632,     0.73632,     0.73632,     0.73632,     0.73632,     0.73632,     0.73632,     0.73632,     0.73632,     0.73632,     0.73632,     0.73494,     0.72492,     0.72139,     0.72139,     0.72139,     0.72139,     0.72139,     0.72139,\n",
       "            0.72139,     0.72139,     0.72139,     0.72139,     0.72139,     0.72139,     0.72139,     0.72139,     0.72139,     0.72139,     0.72139,     0.72139,     0.72139,     0.72139,     0.72139,     0.72139,     0.72139,     0.72139,     0.72139,     0.72139,     0.72139,     0.72139,     0.72139,\n",
       "            0.72139,     0.72139,     0.72139,     0.72139,     0.72139,     0.72139,     0.71642,     0.71642,     0.71642,     0.71642,     0.71642,      0.7164,     0.71602,     0.71564,     0.71526,     0.71488,      0.7145,     0.71412,     0.71374,     0.71335,     0.71297,     0.71259,     0.71221,\n",
       "            0.71183,     0.71145,     0.71061,     0.70976,     0.70891,     0.70806,     0.70721,     0.70647,     0.70647,     0.70639,     0.70512,     0.70385,     0.70258,     0.70149,     0.70149,     0.70132,     0.70105,     0.70078,     0.70051,     0.70024,     0.69997,     0.69971,     0.69944,\n",
       "            0.69917,      0.6989,     0.69863,     0.69837,      0.6981,     0.69783,     0.69756,     0.69729,     0.69703,     0.69676,     0.69652,     0.69652,     0.69652,     0.69652,     0.69652,     0.69652,     0.69652,     0.69652,     0.69652,     0.69246,     0.69154,      0.6912,     0.68938,\n",
       "            0.68757,     0.68657,     0.68657,     0.68159,     0.68159,     0.68159,     0.67662,     0.67662,     0.67662,     0.67662,     0.67662,     0.67662,     0.67662,     0.67608,     0.67191,     0.67164,     0.67164,     0.67164,     0.67164,     0.67164,     0.67164,     0.67164,     0.67164,\n",
       "            0.67103,     0.66913,     0.66723,     0.66515,     0.66294,     0.66169,     0.66169,     0.66169,     0.66169,     0.66169,     0.65737,     0.65672,     0.65672,     0.65672,     0.65672,     0.65532,     0.65336,     0.65114,     0.64777,     0.64677,     0.64677,     0.64677,     0.64677,\n",
       "            0.64677,     0.64677,     0.64677,     0.64677,     0.64677,     0.64677,     0.64677,     0.64677,     0.64638,     0.64595,     0.64552,     0.64508,     0.64465,     0.64422,     0.64379,     0.64335,     0.64292,     0.64249,     0.64205,      0.6413,     0.64004,     0.63879,     0.63753,\n",
       "             0.6318,     0.63137,     0.63095,     0.63052,     0.63009,     0.62967,     0.62924,     0.62882,     0.62839,     0.62797,     0.62754,     0.62711,     0.62618,     0.62453,     0.62287,     0.62189,     0.62189,     0.62189,     0.62189,     0.62172,     0.62015,     0.61859,     0.61702,\n",
       "            0.61178,     0.61128,     0.61079,      0.6103,      0.6098,     0.60931,     0.60881,     0.60832,     0.60782,     0.60733,     0.60673,     0.60582,     0.60491,       0.604,     0.60309,     0.60218,     0.59921,     0.59701,     0.59701,     0.59701,     0.59701,     0.59701,     0.59701,\n",
       "            0.59701,     0.59701,     0.59701,     0.59701,     0.59701,      0.5919,      0.5902,      0.5885,     0.58706,     0.58639,     0.58531,     0.58423,     0.58315,     0.58209,     0.58209,     0.58209,     0.58209,     0.58111,     0.57997,     0.57883,     0.57769,     0.57711,     0.57711,\n",
       "            0.57711,     0.57711,      0.5768,     0.57602,     0.57524,     0.57446,     0.57369,     0.57291,     0.57214,     0.57214,     0.57214,     0.57214,     0.57214,     0.57214,     0.57214,     0.57214,     0.57214,     0.57214,     0.57214,     0.57214,     0.57214,     0.57214,     0.57214,\n",
       "            0.57214,      0.5675,      0.5663,     0.56541,     0.56451,     0.56362,     0.56272,     0.56219,     0.56219,     0.56219,     0.56219,     0.56219,     0.56219,     0.56219,     0.56219,     0.56219,     0.56219,     0.56219,     0.56219,     0.56219,     0.56219,     0.56219,     0.56219,\n",
       "            0.56113,     0.55925,     0.55736,     0.55721,     0.55721,     0.55721,     0.55721,     0.55721,     0.55721,     0.55721,     0.55721,     0.55721,     0.55721,     0.55543,     0.55215,     0.55173,     0.55131,      0.5509,     0.55048,     0.55006,     0.54964,     0.54922,      0.5488,\n",
       "            0.54839,     0.54797,     0.54755,     0.54726,     0.54726,     0.54726,     0.54726,     0.54588,     0.54418,     0.54249,     0.54229,     0.53731,     0.53684,     0.53575,     0.53466,     0.53357,     0.53248,     0.52736,     0.52736,     0.52736,     0.52736,     0.52736,     0.52736,\n",
       "            0.52736,     0.52736,     0.52736,     0.52736,     0.52736,     0.52736,     0.52736,     0.52736,     0.52633,     0.52513,     0.52394,     0.52275,     0.51741,     0.51741,     0.51186,     0.51061,     0.50936,     0.50812,     0.50458,     0.49751,     0.49508,     0.49152,     0.48686,\n",
       "             0.4858,     0.48473,     0.48367,     0.48261,     0.48136,      0.4801,     0.47885,     0.47761,     0.47761,     0.47761,     0.47761,     0.47761,     0.47761,     0.47761,     0.47761,     0.47761,     0.47761,     0.47761,     0.47761,     0.47761,     0.47761,     0.47715,     0.47618,\n",
       "            0.47521,     0.47423,     0.47326,     0.47264,     0.47105,     0.46893,     0.46695,     0.46521,     0.46346,     0.46201,     0.46081,      0.4596,      0.4584,     0.45407,     0.45274,     0.45274,     0.45274,     0.45041,     0.44675,     0.44502,     0.44328,     0.43918,     0.43503,\n",
       "            0.43284,     0.43284,     0.43192,     0.43069,     0.42946,     0.42822,     0.42786,     0.42786,     0.42786,     0.42786,     0.42786,     0.42786,     0.42786,     0.42786,     0.42786,     0.42717,     0.42633,     0.42548,     0.42464,      0.4238,     0.42296,     0.41678,     0.41394,\n",
       "            0.41294,     0.41107,     0.40895,     0.40713,     0.40556,     0.40399,     0.40076,     0.39801,     0.39801,     0.39801,     0.39801,     0.39801,     0.39801,     0.39801,     0.39303,     0.39303,     0.39303,     0.39303,     0.39303,     0.39167,      0.3894,     0.38724,     0.38523,\n",
       "            0.38322,     0.37987,     0.37299,     0.37111,     0.36924,     0.36787,     0.36718,      0.3665,     0.36582,     0.36513,     0.36445,     0.36376,     0.36301,     0.36184,     0.36068,     0.35951,     0.35835,     0.35109,     0.34861,     0.34643,      0.3443,     0.33777,     0.33333,\n",
       "            0.32942,     0.32338,     0.32149,     0.31936,     0.31813,     0.31764,     0.31715,     0.31666,     0.31616,     0.31567,     0.31518,     0.31468,     0.31419,      0.3137,     0.31343,     0.31269,     0.31147,     0.31024,     0.30901,     0.30599,     0.30237,     0.29984,     0.29395,\n",
       "            0.29246,     0.29134,     0.29022,      0.2891,     0.28818,     0.28464,     0.28358,     0.28358,     0.27831,     0.27634,     0.27437,     0.26838,     0.26497,     0.26345,     0.26308,     0.26271,     0.26234,     0.26198,     0.26161,     0.26124,     0.26087,      0.2605,     0.26013,\n",
       "            0.25976,     0.25939,     0.25902,     0.25846,     0.25676,     0.25505,     0.24876,      0.2485,     0.24737,     0.24624,     0.24511,     0.24398,     0.24378,     0.24237,     0.23847,     0.23591,     0.23383,     0.23383,     0.23383,     0.23383,     0.23383,     0.23383,     0.23383,\n",
       "            0.23383,     0.23234,     0.23081,     0.22927,     0.22299,     0.22082,     0.21891,     0.21891,     0.21891,     0.21644,     0.21379,     0.21164,      0.2095,     0.20712,     0.20466,     0.19821,     0.19637,     0.19452,      0.1896,     0.18787,     0.18657,     0.18526,     0.18255,\n",
       "            0.17769,      0.1759,     0.17412,     0.17239,     0.17066,     0.16647,     0.16327,     0.16224,     0.16122,     0.16019,      0.1591,     0.15647,     0.15392,     0.15178,     0.14963,     0.14628,     0.14258,     0.13846,     0.13358,     0.13139,     0.12922,     0.12725,     0.12528,\n",
       "            0.12438,     0.12438,     0.12438,     0.12212,      0.1188,     0.11677,     0.11475,     0.11352,     0.11244,     0.11136,     0.11028,     0.10907,     0.10748,     0.10589,     0.10395,    0.099457,    0.097594,    0.095731,    0.094175,    0.093181,    0.092186,    0.091191,    0.090196,\n",
       "           0.089048,    0.087615,    0.086183,    0.084751,    0.080034,    0.076879,    0.072005,    0.065643,    0.064677,    0.064648,    0.064354,     0.06406,    0.063766,    0.063472,    0.063178,    0.062884,     0.06259,    0.062296,    0.062001,    0.061707,    0.061413,    0.061119,    0.060825,\n",
       "           0.060531,    0.060237,    0.059943,    0.059546,    0.058675,    0.057805,    0.056934,    0.056063,    0.055192,    0.054199,    0.053066,    0.051933,      0.0508,     0.04963,    0.048006,    0.046382,    0.044768,    0.044005,    0.043242,    0.042479,    0.041716,    0.040953,     0.04019,\n",
       "           0.038504,     0.03586,    0.033962,    0.032543,    0.031125,    0.029776,     0.02904,    0.028305,    0.027569,    0.026833,    0.026097,    0.025362,    0.024676,    0.024089,    0.023501,    0.022913,    0.022326,    0.021738,     0.02115,    0.020563,    0.019975,    0.015357,    0.014377,\n",
       "           0.013779,    0.013181,    0.012584,    0.011986,    0.011388,     0.01079,    0.010192,   0.0091733,   0.0078676,    0.006562,   0.0052564,           0,           0,           0,           0,           0,           0,           0,           0,           0,           0,           0,           0,\n",
       "                  0,           0,           0,           0,           0,           0,           0,           0,           0,           0,           0,           0,           0,           0,           0,           0,           0,           0,           0,           0,           0,           0,           0,\n",
       "                  0,           0,           0,           0,           0,           0,           0,           0,           0,           0,           0]]), 'Confidence', 'Recall']]\n",
       "fitness: 0.47307100758960663\n",
       "keys: ['metrics/precision(B)', 'metrics/recall(B)', 'metrics/mAP50(B)', 'metrics/mAP50-95(B)']\n",
       "maps: array([    0.44565])\n",
       "names: {0: 'Pothole'}\n",
       "plot: True\n",
       "results_dict: {'metrics/precision(B)': 0.677726701894897, 'metrics/recall(B)': 0.7114479681857282, 'metrics/mAP50(B)': 0.7198614347811443, 'metrics/mAP50-95(B)': 0.4456498490127691, 'fitness': 0.47307100758960663}\n",
       "save_dir: WindowsPath('runs/detect/train4')\n",
       "speed: {'preprocess': 1.6909716665395536, 'inference': 188.52395833334108, 'loss': 7.166721237202485e-05, 'postprocess': 1.485471666577117}\n",
       "task: 'detect'"
      ]
     },
     "execution_count": 5,
     "metadata": {},
     "output_type": "execute_result"
    }
   ],
   "source": [
    "from ultralytics import YOLO\n",
    "\n",
    "model = YOLO(\"yolov5su.pt\") \n",
    "data_config = \"Dataset/data.yaml\"\n",
    "\n",
    "# Training the model\n",
    "model.train(data=data_config, epochs=50, imgsz=416)  "
   ]
  },
  {
   "cell_type": "code",
   "execution_count": 2,
   "id": "1962eb64",
   "metadata": {},
   "outputs": [
    {
     "ename": "NameError",
     "evalue": "name 'model' is not defined",
     "output_type": "error",
     "traceback": [
      "\u001b[31m---------------------------------------------------------------------------\u001b[39m",
      "\u001b[31mNameError\u001b[39m                                 Traceback (most recent call last)",
      "\u001b[36mCell\u001b[39m\u001b[36m \u001b[39m\u001b[32mIn[2]\u001b[39m\u001b[32m, line 5\u001b[39m\n\u001b[32m      2\u001b[39m image_path = \u001b[33m\"\u001b[39m\u001b[33mDataset/train/images/pot.jpg\u001b[39m\u001b[33m\"\u001b[39m\n\u001b[32m      4\u001b[39m \u001b[38;5;66;03m# Perform inference on the image\u001b[39;00m\n\u001b[32m----> \u001b[39m\u001b[32m5\u001b[39m results = \u001b[43mmodel\u001b[49m.predict(source=image_path, save=\u001b[38;5;28;01mTrue\u001b[39;00m)\n\u001b[32m      7\u001b[39m \u001b[38;5;66;03m# Display the results\u001b[39;00m\n\u001b[32m      8\u001b[39m results[\u001b[32m0\u001b[39m].show()\n",
      "\u001b[31mNameError\u001b[39m: name 'model' is not defined"
     ]
    }
   ],
   "source": [
    "# Path to the image you want to analyze\n",
    "image_path = \"Dataset/train/images/pot.jpg\"\n",
    "\n",
    "# Perform inference on the image\n",
    "results = model.predict(source=image_path, save=True)\n",
    "\n",
    "# Display the results\n",
    "results[0].show()"
   ]
  },
  {
   "cell_type": "code",
   "execution_count": null,
   "id": "db962b05",
   "metadata": {},
   "outputs": [
    {
     "name": "stdout",
     "output_type": "stream",
     "text": [
      "Train path exists: True\n",
      "Test path exists: False\n",
      "Current Working Directory:  c:\\Users\\himek\\Desktop\\proje\n",
      "YOLO model exists:  True\n",
      "Dataset config exists:  True\n",
      "Image file exists:  True\n"
     ]
    }
   ],
   "source": [
    "# # Check if paths exist\n",
    "# print(f\"Train path exists: {os.path.exists('dataset/train/images')}\")\n",
    "# print(f\"Test path exists: {os.path.exists('dataset/test/images')}\")\n",
    "\n",
    "# # Check current working directory\n",
    "# print(\"Current Working Directory: \", os.getcwd())\n",
    "\n",
    "# # Check if YOLO model file exists\n",
    "# print(\"YOLO model exists: \", os.path.exists(\"yolov5su.pt\"))\n",
    "\n",
    "# # Check if dataset configuration file exists\n",
    "# print(\"Dataset config exists: \", os.path.exists(\"Dataset/data.yaml\"))\n",
    "\n",
    "# # Check if image file exists\n",
    "# print(\"Image file exists: \", os.path.exists(\"Dataset/train/images/pic-2-_jpg.rf.f0b15cd48578f75fff175242f1d8d9d0.jpg\"))"
   ]
  },
  {
   "cell_type": "code",
   "execution_count": null,
   "id": "df9507c1",
   "metadata": {},
   "outputs": [
    {
     "name": "stdout",
     "output_type": "stream",
     "text": [
      "Created missing directory: dataset/test/images\n"
     ]
    }
   ],
   "source": [
    "# import os\n",
    "\n",
    "# test_path = \"dataset/test/images\"\n",
    "# if not os.path.exists(test_path):\n",
    "#     os.makedirs(test_path)\n",
    "#     print(f\"Created missing directory: {test_path}\")"
   ]
  },
  {
   "cell_type": "code",
   "execution_count": null,
   "id": "40e289b6",
   "metadata": {},
   "outputs": [
    {
     "ename": "NameError",
     "evalue": "name 'model' is not defined",
     "output_type": "error",
     "traceback": [
      "\u001b[31m---------------------------------------------------------------------------\u001b[39m",
      "\u001b[31mNameError\u001b[39m                                 Traceback (most recent call last)",
      "\u001b[36mCell\u001b[39m\u001b[36m \u001b[39m\u001b[32mIn[1]\u001b[39m\u001b[32m, line 5\u001b[39m\n\u001b[32m      2\u001b[39m image_path = \u001b[33m\"\u001b[39m\u001b[33mDataset/train/images/pic-272-_jpg.rf.9c136160d287bbdaaaa5e6027f75ba97.jpg\u001b[39m\u001b[33m\"\u001b[39m\n\u001b[32m      4\u001b[39m \u001b[38;5;66;03m# Perform inference on the image\u001b[39;00m\n\u001b[32m----> \u001b[39m\u001b[32m5\u001b[39m results = \u001b[43mmodel\u001b[49m.predict(source=image_path, save=\u001b[38;5;28;01mTrue\u001b[39;00m)\n\u001b[32m      7\u001b[39m \u001b[38;5;66;03m# Display the results\u001b[39;00m\n\u001b[32m      8\u001b[39m results[\u001b[32m0\u001b[39m].show()\n",
      "\u001b[31mNameError\u001b[39m: name 'model' is not defined"
     ]
    }
   ],
   "source": [
    "# # Path to the image you want to analyze\n",
    "# image_path = \"Dataset/train/images/pic-272-_jpg.rf.9c136160d287bbdaaaa5e6027f75ba97.jpg\"\n",
    "\n",
    "# # Perform inference on the image\n",
    "# results = model.predict(source=image_path, save=True)\n",
    "\n",
    "# # Display the results\n",
    "# results[0].show()"
   ]
  },
  {
   "cell_type": "code",
   "execution_count": null,
   "id": "aec2cc4e",
   "metadata": {},
   "outputs": [],
   "source": []
  }
 ],
 "metadata": {
  "kernelspec": {
   "display_name": "Python 3",
   "language": "python",
   "name": "python3"
  },
  "language_info": {
   "codemirror_mode": {
    "name": "ipython",
    "version": 3
   },
   "file_extension": ".py",
   "mimetype": "text/x-python",
   "name": "python",
   "nbconvert_exporter": "python",
   "pygments_lexer": "ipython3",
   "version": "3.11.9"
  }
 },
 "nbformat": 4,
 "nbformat_minor": 5
}
